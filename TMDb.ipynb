{
 "cells": [
  {
   "cell_type": "markdown",
   "metadata": {},
   "source": [
    "# Project: Investigate a Dataset (TMDb Movie Data)\n",
    "\n",
    "###### By Karim El-Dweky"
   ]
  },
  {
   "cell_type": "markdown",
   "metadata": {
    "toc": true
   },
   "source": [
    "<h1>Table of Contents<span class=\"tocSkip\"></span></h1>\n",
    "<div class=\"toc\"><ul class=\"toc-item\"><li><span><a href=\"#Introduction\" data-toc-modified-id=\"Introduction-1\"><span class=\"toc-item-num\">1&nbsp;&nbsp;</span>Introduction</a></span></li><li><span><a href=\"#Data-Wrangling\" data-toc-modified-id=\"Data-Wrangling-2\"><span class=\"toc-item-num\">2&nbsp;&nbsp;</span>Data Wrangling</a></span><ul class=\"toc-item\"><li><span><a href=\"#Data-Gathering\" data-toc-modified-id=\"Data-Gathering-2.1\"><span class=\"toc-item-num\">2.1&nbsp;&nbsp;</span>Data Gathering</a></span></li><li><span><a href=\"#Data-Assessment\" data-toc-modified-id=\"Data-Assessment-2.2\"><span class=\"toc-item-num\">2.2&nbsp;&nbsp;</span>Data Assessment</a></span><ul class=\"toc-item\"><li><span><a href=\"#Visual-Assessment\" data-toc-modified-id=\"Visual-Assessment-2.2.1\"><span class=\"toc-item-num\">2.2.1&nbsp;&nbsp;</span>Visual Assessment</a></span></li><li><span><a href=\"#Programmatic-Assessment\" data-toc-modified-id=\"Programmatic-Assessment-2.2.2\"><span class=\"toc-item-num\">2.2.2&nbsp;&nbsp;</span>Programmatic Assessment</a></span></li><li><span><a href=\"#Data-Assessment-Report\" data-toc-modified-id=\"Data-Assessment-Report-2.2.3\"><span class=\"toc-item-num\">2.2.3&nbsp;&nbsp;</span>Data Assessment Report</a></span><ul class=\"toc-item\"><li><span><a href=\"#Quality-Issues:\" data-toc-modified-id=\"Quality-Issues:-2.2.3.1\"><span class=\"toc-item-num\">2.2.3.1&nbsp;&nbsp;</span>Quality Issues:</a></span></li><li><span><a href=\"#Tideness-Issues:\" data-toc-modified-id=\"Tideness-Issues:-2.2.3.2\"><span class=\"toc-item-num\">2.2.3.2&nbsp;&nbsp;</span>Tideness Issues:</a></span></li></ul></li></ul></li><li><span><a href=\"#Data-Cleaning\" data-toc-modified-id=\"Data-Cleaning-2.3\"><span class=\"toc-item-num\">2.3&nbsp;&nbsp;</span>Data Cleaning</a></span><ul class=\"toc-item\"><li><span><a href=\"#Taking-a-copy-for-cleaning-process:\" data-toc-modified-id=\"Taking-a-copy-for-cleaning-process:-2.3.1\"><span class=\"toc-item-num\">2.3.1&nbsp;&nbsp;</span>Taking a copy for cleaning process:</a></span></li><li><span><a href=\"#Cleaning-Quality-Issues:\" data-toc-modified-id=\"Cleaning-Quality-Issues:-2.3.2\"><span class=\"toc-item-num\">2.3.2&nbsp;&nbsp;</span>Cleaning Quality Issues:</a></span></li><li><span><a href=\"#Cleaning-Tideness-Issues:\" data-toc-modified-id=\"Cleaning-Tideness-Issues:-2.3.3\"><span class=\"toc-item-num\">2.3.3&nbsp;&nbsp;</span>Cleaning Tideness Issues:</a></span></li></ul></li><li><span><a href=\"#Data-Storing\" data-toc-modified-id=\"Data-Storing-2.4\"><span class=\"toc-item-num\">2.4&nbsp;&nbsp;</span>Data Storing</a></span></li></ul></li><li><span><a href=\"#Exploratory-Data-Analysis\" data-toc-modified-id=\"Exploratory-Data-Analysis-3\"><span class=\"toc-item-num\">3&nbsp;&nbsp;</span>Exploratory Data Analysis</a></span><ul class=\"toc-item\"><li><span><a href=\"#Research-Question-1-(Important-Insights-for-Movie-Production)\" data-toc-modified-id=\"Research-Question-1-(Important-Insights-for-Movie-Production)-3.1\"><span class=\"toc-item-num\">3.1&nbsp;&nbsp;</span>Research Question 1 (Important Insights for Movie Production)</a></span><ul class=\"toc-item\"><li><span><a href=\"#Which-genre-has-the-highest-release-of-movies?\" data-toc-modified-id=\"Which-genre-has-the-highest-release-of-movies?-3.1.1\"><span class=\"toc-item-num\">3.1.1&nbsp;&nbsp;</span>Which genre has the highest release of movies?</a></span><ul class=\"toc-item\"><li><span><a href=\"#Findings\" data-toc-modified-id=\"Findings-3.1.1.1\"><span class=\"toc-item-num\">3.1.1.1&nbsp;&nbsp;</span>Findings</a></span></li></ul></li><li><span><a href=\"#Who-are-the-directors-contributing-to-high-revenue-movies?\" data-toc-modified-id=\"Who-are-the-directors-contributing-to-high-revenue-movies?-3.1.2\"><span class=\"toc-item-num\">3.1.2&nbsp;&nbsp;</span>Who are the directors contributing to high revenue movies?</a></span><ul class=\"toc-item\"><li><span><a href=\"#Findings\" data-toc-modified-id=\"Findings-3.1.2.1\"><span class=\"toc-item-num\">3.1.2.1&nbsp;&nbsp;</span>Findings</a></span></li></ul></li></ul></li><li><span><a href=\"#Research-Question-2--(Important-Insights-for-Movie-Financing)\" data-toc-modified-id=\"Research-Question-2--(Important-Insights-for-Movie-Financing)-3.2\"><span class=\"toc-item-num\">3.2&nbsp;&nbsp;</span>Research Question 2  (Important Insights for Movie Financing)</a></span><ul class=\"toc-item\"><li><span><a href=\"#What's-the-Changes-in-Budget-&amp;-Revenue-across-Time?\" data-toc-modified-id=\"What's-the-Changes-in-Budget-&amp;-Revenue-across-Time?-3.2.1\"><span class=\"toc-item-num\">3.2.1&nbsp;&nbsp;</span>What's the Changes in Budget &amp; Revenue across Time?</a></span><ul class=\"toc-item\"><li><span><a href=\"#Findings\" data-toc-modified-id=\"Findings-3.2.1.1\"><span class=\"toc-item-num\">3.2.1.1&nbsp;&nbsp;</span>Findings</a></span></li></ul></li><li><span><a href=\"#What's-the-most-profitable-genre?\" data-toc-modified-id=\"What's-the-most-profitable-genre?-3.2.2\"><span class=\"toc-item-num\">3.2.2&nbsp;&nbsp;</span>What's the most profitable genre?</a></span><ul class=\"toc-item\"><li><span><a href=\"#Findings\" data-toc-modified-id=\"Findings-3.2.2.1\"><span class=\"toc-item-num\">3.2.2.1&nbsp;&nbsp;</span>Findings</a></span></li></ul></li></ul></li><li><span><a href=\"#Research-Question-3-(Important-Insights-for-Movies-Watching)\" data-toc-modified-id=\"Research-Question-3-(Important-Insights-for-Movies-Watching)-3.3\"><span class=\"toc-item-num\">3.3&nbsp;&nbsp;</span>Research Question 3 (Important Insights for Movies Watching)</a></span><ul class=\"toc-item\"><li><span><a href=\"#Does-movies-ppopularity-affected-through-the-years?\" data-toc-modified-id=\"Does-movies-ppopularity-affected-through-the-years?-3.3.1\"><span class=\"toc-item-num\">3.3.1&nbsp;&nbsp;</span>Does movies ppopularity affected through the years?</a></span><ul class=\"toc-item\"><li><span><a href=\"#Findings\" data-toc-modified-id=\"Findings-3.3.1.1\"><span class=\"toc-item-num\">3.3.1.1&nbsp;&nbsp;</span>Findings</a></span></li></ul></li></ul></li></ul></li><li><span><a href=\"#Conclusions\" data-toc-modified-id=\"Conclusions-4\"><span class=\"toc-item-num\">4&nbsp;&nbsp;</span>Conclusions</a></span><ul class=\"toc-item\"><li><span><a href=\"#Findings\" data-toc-modified-id=\"Findings-4.1\"><span class=\"toc-item-num\">4.1&nbsp;&nbsp;</span>Findings</a></span></li></ul></li></ul></div>"
   ]
  },
  {
   "cell_type": "markdown",
   "metadata": {},
   "source": [
    "## Introduction\n",
    "\n",
    "The purpose of this project is to put in practice what I learned in data wrangling data section from Udacity Data Analysis Nanodegree program. The dataset that is wrangled contains information about 10,000 movies collected from The Movie Database (TMDb), including user ratings and revenue."
   ]
  },
  {
   "cell_type": "code",
   "execution_count": 207,
   "metadata": {},
   "outputs": [],
   "source": [
    "# importing required libraries \n",
    "import pandas as pd\n",
    "import numpy as np\n",
    "import requests\n",
    "import re\n",
    "import matplotlib.pyplot as plt\n",
    "import datetime\n",
    "import os\n",
    "import seaborn as sns\n",
    "from scipy import stats\n",
    "from functools import reduce\n",
    "import warnings\n",
    "warnings.filterwarnings('ignore')\n",
    "%matplotlib inline"
   ]
  },
  {
   "cell_type": "markdown",
   "metadata": {},
   "source": [
    "## Data Wrangling"
   ]
  },
  {
   "cell_type": "markdown",
   "metadata": {},
   "source": [
    "### Data Gathering\n",
    "Kaggle have removed the original version of this dataset per a DMCA takedown request from IMDB. In order to minimize the impact, They're replacing it with a similar set of films and data fields from The Movie Database (TMDb) in accordance with their terms of use.\n",
    "- **TMDb Movie Data**\n",
    "    - This file (tmdb-movies.csv) is hosted on Udacity's servers and should be downloaded programmatically using the Requests library and the following URL: https://d17h27t6h515a5.cloudfront.net/topher/2017/October/59dd1c4c_tmdb-movies/tmdb-movies.csv.\n",
    "    - The file is cleaned from original data on https://www.kaggle.com/tmdb/tmdb-movie-metadata.\n"
   ]
  },
  {
   "cell_type": "code",
   "execution_count": 208,
   "metadata": {},
   "outputs": [],
   "source": [
    "# Function definition for dataset download\n",
    "def request_file(url):\n",
    "    file_name = os.path.basename(url)\n",
    "    response = requests.get(url)\n",
    "    # save content of response in the file\n",
    "    if not os.path.isfile(file_name):\n",
    "        with open(file_name,'wb') as f:\n",
    "            f.write(response.content)\n",
    "    return file_name"
   ]
  },
  {
   "cell_type": "code",
   "execution_count": 209,
   "metadata": {},
   "outputs": [
    {
     "data": {
      "text/html": [
       "<div>\n",
       "<style scoped>\n",
       "    .dataframe tbody tr th:only-of-type {\n",
       "        vertical-align: middle;\n",
       "    }\n",
       "\n",
       "    .dataframe tbody tr th {\n",
       "        vertical-align: top;\n",
       "    }\n",
       "\n",
       "    .dataframe thead th {\n",
       "        text-align: right;\n",
       "    }\n",
       "</style>\n",
       "<table border=\"1\" class=\"dataframe\">\n",
       "  <thead>\n",
       "    <tr style=\"text-align: right;\">\n",
       "      <th></th>\n",
       "      <th>id</th>\n",
       "      <th>imdb_id</th>\n",
       "      <th>popularity</th>\n",
       "      <th>budget</th>\n",
       "      <th>revenue</th>\n",
       "      <th>original_title</th>\n",
       "      <th>cast</th>\n",
       "      <th>homepage</th>\n",
       "      <th>director</th>\n",
       "      <th>tagline</th>\n",
       "      <th>...</th>\n",
       "      <th>overview</th>\n",
       "      <th>runtime</th>\n",
       "      <th>genres</th>\n",
       "      <th>production_companies</th>\n",
       "      <th>release_date</th>\n",
       "      <th>vote_count</th>\n",
       "      <th>vote_average</th>\n",
       "      <th>release_year</th>\n",
       "      <th>budget_adj</th>\n",
       "      <th>revenue_adj</th>\n",
       "    </tr>\n",
       "  </thead>\n",
       "  <tbody>\n",
       "    <tr>\n",
       "      <th>0</th>\n",
       "      <td>135397</td>\n",
       "      <td>tt0369610</td>\n",
       "      <td>32.985763</td>\n",
       "      <td>150000000</td>\n",
       "      <td>1513528810</td>\n",
       "      <td>Jurassic World</td>\n",
       "      <td>Chris Pratt|Bryce Dallas Howard|Irrfan Khan|Vi...</td>\n",
       "      <td>http://www.jurassicworld.com/</td>\n",
       "      <td>Colin Trevorrow</td>\n",
       "      <td>The park is open.</td>\n",
       "      <td>...</td>\n",
       "      <td>Twenty-two years after the events of Jurassic ...</td>\n",
       "      <td>124</td>\n",
       "      <td>Action|Adventure|Science Fiction|Thriller</td>\n",
       "      <td>Universal Studios|Amblin Entertainment|Legenda...</td>\n",
       "      <td>6/9/15</td>\n",
       "      <td>5562</td>\n",
       "      <td>6.5</td>\n",
       "      <td>2015</td>\n",
       "      <td>1.379999e+08</td>\n",
       "      <td>1.392446e+09</td>\n",
       "    </tr>\n",
       "    <tr>\n",
       "      <th>1</th>\n",
       "      <td>76341</td>\n",
       "      <td>tt1392190</td>\n",
       "      <td>28.419936</td>\n",
       "      <td>150000000</td>\n",
       "      <td>378436354</td>\n",
       "      <td>Mad Max: Fury Road</td>\n",
       "      <td>Tom Hardy|Charlize Theron|Hugh Keays-Byrne|Nic...</td>\n",
       "      <td>http://www.madmaxmovie.com/</td>\n",
       "      <td>George Miller</td>\n",
       "      <td>What a Lovely Day.</td>\n",
       "      <td>...</td>\n",
       "      <td>An apocalyptic story set in the furthest reach...</td>\n",
       "      <td>120</td>\n",
       "      <td>Action|Adventure|Science Fiction|Thriller</td>\n",
       "      <td>Village Roadshow Pictures|Kennedy Miller Produ...</td>\n",
       "      <td>5/13/15</td>\n",
       "      <td>6185</td>\n",
       "      <td>7.1</td>\n",
       "      <td>2015</td>\n",
       "      <td>1.379999e+08</td>\n",
       "      <td>3.481613e+08</td>\n",
       "    </tr>\n",
       "    <tr>\n",
       "      <th>2</th>\n",
       "      <td>262500</td>\n",
       "      <td>tt2908446</td>\n",
       "      <td>13.112507</td>\n",
       "      <td>110000000</td>\n",
       "      <td>295238201</td>\n",
       "      <td>Insurgent</td>\n",
       "      <td>Shailene Woodley|Theo James|Kate Winslet|Ansel...</td>\n",
       "      <td>http://www.thedivergentseries.movie/#insurgent</td>\n",
       "      <td>Robert Schwentke</td>\n",
       "      <td>One Choice Can Destroy You</td>\n",
       "      <td>...</td>\n",
       "      <td>Beatrice Prior must confront her inner demons ...</td>\n",
       "      <td>119</td>\n",
       "      <td>Adventure|Science Fiction|Thriller</td>\n",
       "      <td>Summit Entertainment|Mandeville Films|Red Wago...</td>\n",
       "      <td>3/18/15</td>\n",
       "      <td>2480</td>\n",
       "      <td>6.3</td>\n",
       "      <td>2015</td>\n",
       "      <td>1.012000e+08</td>\n",
       "      <td>2.716190e+08</td>\n",
       "    </tr>\n",
       "    <tr>\n",
       "      <th>3</th>\n",
       "      <td>140607</td>\n",
       "      <td>tt2488496</td>\n",
       "      <td>11.173104</td>\n",
       "      <td>200000000</td>\n",
       "      <td>2068178225</td>\n",
       "      <td>Star Wars: The Force Awakens</td>\n",
       "      <td>Harrison Ford|Mark Hamill|Carrie Fisher|Adam D...</td>\n",
       "      <td>http://www.starwars.com/films/star-wars-episod...</td>\n",
       "      <td>J.J. Abrams</td>\n",
       "      <td>Every generation has a story.</td>\n",
       "      <td>...</td>\n",
       "      <td>Thirty years after defeating the Galactic Empi...</td>\n",
       "      <td>136</td>\n",
       "      <td>Action|Adventure|Science Fiction|Fantasy</td>\n",
       "      <td>Lucasfilm|Truenorth Productions|Bad Robot</td>\n",
       "      <td>12/15/15</td>\n",
       "      <td>5292</td>\n",
       "      <td>7.5</td>\n",
       "      <td>2015</td>\n",
       "      <td>1.839999e+08</td>\n",
       "      <td>1.902723e+09</td>\n",
       "    </tr>\n",
       "    <tr>\n",
       "      <th>4</th>\n",
       "      <td>168259</td>\n",
       "      <td>tt2820852</td>\n",
       "      <td>9.335014</td>\n",
       "      <td>190000000</td>\n",
       "      <td>1506249360</td>\n",
       "      <td>Furious 7</td>\n",
       "      <td>Vin Diesel|Paul Walker|Jason Statham|Michelle ...</td>\n",
       "      <td>http://www.furious7.com/</td>\n",
       "      <td>James Wan</td>\n",
       "      <td>Vengeance Hits Home</td>\n",
       "      <td>...</td>\n",
       "      <td>Deckard Shaw seeks revenge against Dominic Tor...</td>\n",
       "      <td>137</td>\n",
       "      <td>Action|Crime|Thriller</td>\n",
       "      <td>Universal Pictures|Original Film|Media Rights ...</td>\n",
       "      <td>4/1/15</td>\n",
       "      <td>2947</td>\n",
       "      <td>7.3</td>\n",
       "      <td>2015</td>\n",
       "      <td>1.747999e+08</td>\n",
       "      <td>1.385749e+09</td>\n",
       "    </tr>\n",
       "  </tbody>\n",
       "</table>\n",
       "<p>5 rows × 21 columns</p>\n",
       "</div>"
      ],
      "text/plain": [
       "       id    imdb_id  popularity     budget     revenue  \\\n",
       "0  135397  tt0369610   32.985763  150000000  1513528810   \n",
       "1   76341  tt1392190   28.419936  150000000   378436354   \n",
       "2  262500  tt2908446   13.112507  110000000   295238201   \n",
       "3  140607  tt2488496   11.173104  200000000  2068178225   \n",
       "4  168259  tt2820852    9.335014  190000000  1506249360   \n",
       "\n",
       "                 original_title  \\\n",
       "0                Jurassic World   \n",
       "1            Mad Max: Fury Road   \n",
       "2                     Insurgent   \n",
       "3  Star Wars: The Force Awakens   \n",
       "4                     Furious 7   \n",
       "\n",
       "                                                cast  \\\n",
       "0  Chris Pratt|Bryce Dallas Howard|Irrfan Khan|Vi...   \n",
       "1  Tom Hardy|Charlize Theron|Hugh Keays-Byrne|Nic...   \n",
       "2  Shailene Woodley|Theo James|Kate Winslet|Ansel...   \n",
       "3  Harrison Ford|Mark Hamill|Carrie Fisher|Adam D...   \n",
       "4  Vin Diesel|Paul Walker|Jason Statham|Michelle ...   \n",
       "\n",
       "                                            homepage          director  \\\n",
       "0                      http://www.jurassicworld.com/   Colin Trevorrow   \n",
       "1                        http://www.madmaxmovie.com/     George Miller   \n",
       "2     http://www.thedivergentseries.movie/#insurgent  Robert Schwentke   \n",
       "3  http://www.starwars.com/films/star-wars-episod...       J.J. Abrams   \n",
       "4                           http://www.furious7.com/         James Wan   \n",
       "\n",
       "                         tagline  ...  \\\n",
       "0              The park is open.  ...   \n",
       "1             What a Lovely Day.  ...   \n",
       "2     One Choice Can Destroy You  ...   \n",
       "3  Every generation has a story.  ...   \n",
       "4            Vengeance Hits Home  ...   \n",
       "\n",
       "                                            overview runtime  \\\n",
       "0  Twenty-two years after the events of Jurassic ...     124   \n",
       "1  An apocalyptic story set in the furthest reach...     120   \n",
       "2  Beatrice Prior must confront her inner demons ...     119   \n",
       "3  Thirty years after defeating the Galactic Empi...     136   \n",
       "4  Deckard Shaw seeks revenge against Dominic Tor...     137   \n",
       "\n",
       "                                      genres  \\\n",
       "0  Action|Adventure|Science Fiction|Thriller   \n",
       "1  Action|Adventure|Science Fiction|Thriller   \n",
       "2         Adventure|Science Fiction|Thriller   \n",
       "3   Action|Adventure|Science Fiction|Fantasy   \n",
       "4                      Action|Crime|Thriller   \n",
       "\n",
       "                                production_companies release_date vote_count  \\\n",
       "0  Universal Studios|Amblin Entertainment|Legenda...       6/9/15       5562   \n",
       "1  Village Roadshow Pictures|Kennedy Miller Produ...      5/13/15       6185   \n",
       "2  Summit Entertainment|Mandeville Films|Red Wago...      3/18/15       2480   \n",
       "3          Lucasfilm|Truenorth Productions|Bad Robot     12/15/15       5292   \n",
       "4  Universal Pictures|Original Film|Media Rights ...       4/1/15       2947   \n",
       "\n",
       "   vote_average  release_year    budget_adj   revenue_adj  \n",
       "0           6.5          2015  1.379999e+08  1.392446e+09  \n",
       "1           7.1          2015  1.379999e+08  3.481613e+08  \n",
       "2           6.3          2015  1.012000e+08  2.716190e+08  \n",
       "3           7.5          2015  1.839999e+08  1.902723e+09  \n",
       "4           7.3          2015  1.747999e+08  1.385749e+09  \n",
       "\n",
       "[5 rows x 21 columns]"
      ]
     },
     "execution_count": 209,
     "metadata": {},
     "output_type": "execute_result"
    }
   ],
   "source": [
    "# URL downloaded programatically \n",
    "url = \"https://d17h27t6h515a5.cloudfront.net/topher/2017/October/59dd1c4c_tmdb-movies/tmdb-movies.csv\"\n",
    "file_name = request_file(url)\n",
    "\n",
    "# Read CSV file\n",
    "tmdb_df = pd.read_csv(file_name)\n",
    "tmdb_df.head()"
   ]
  },
  {
   "cell_type": "markdown",
   "metadata": {},
   "source": [
    "### Data Assessment \n",
    "Data Assessment consists of two main steps (Visual - Programmatic) which help in exploring the gathered data and finding the anamolies points that needs to be cleaned. "
   ]
  },
  {
   "cell_type": "markdown",
   "metadata": {},
   "source": [
    "#### Visual Assessment"
   ]
  },
  {
   "cell_type": "code",
   "execution_count": 210,
   "metadata": {},
   "outputs": [
    {
     "data": {
      "text/html": [
       "<div>\n",
       "<style scoped>\n",
       "    .dataframe tbody tr th:only-of-type {\n",
       "        vertical-align: middle;\n",
       "    }\n",
       "\n",
       "    .dataframe tbody tr th {\n",
       "        vertical-align: top;\n",
       "    }\n",
       "\n",
       "    .dataframe thead th {\n",
       "        text-align: right;\n",
       "    }\n",
       "</style>\n",
       "<table border=\"1\" class=\"dataframe\">\n",
       "  <thead>\n",
       "    <tr style=\"text-align: right;\">\n",
       "      <th></th>\n",
       "      <th>id</th>\n",
       "      <th>imdb_id</th>\n",
       "      <th>popularity</th>\n",
       "      <th>budget</th>\n",
       "      <th>revenue</th>\n",
       "      <th>original_title</th>\n",
       "      <th>cast</th>\n",
       "      <th>homepage</th>\n",
       "      <th>director</th>\n",
       "      <th>tagline</th>\n",
       "      <th>...</th>\n",
       "      <th>overview</th>\n",
       "      <th>runtime</th>\n",
       "      <th>genres</th>\n",
       "      <th>production_companies</th>\n",
       "      <th>release_date</th>\n",
       "      <th>vote_count</th>\n",
       "      <th>vote_average</th>\n",
       "      <th>release_year</th>\n",
       "      <th>budget_adj</th>\n",
       "      <th>revenue_adj</th>\n",
       "    </tr>\n",
       "  </thead>\n",
       "  <tbody>\n",
       "    <tr>\n",
       "      <th>0</th>\n",
       "      <td>135397</td>\n",
       "      <td>tt0369610</td>\n",
       "      <td>32.985763</td>\n",
       "      <td>150000000</td>\n",
       "      <td>1513528810</td>\n",
       "      <td>Jurassic World</td>\n",
       "      <td>Chris Pratt|Bryce Dallas Howard|Irrfan Khan|Vi...</td>\n",
       "      <td>http://www.jurassicworld.com/</td>\n",
       "      <td>Colin Trevorrow</td>\n",
       "      <td>The park is open.</td>\n",
       "      <td>...</td>\n",
       "      <td>Twenty-two years after the events of Jurassic ...</td>\n",
       "      <td>124</td>\n",
       "      <td>Action|Adventure|Science Fiction|Thriller</td>\n",
       "      <td>Universal Studios|Amblin Entertainment|Legenda...</td>\n",
       "      <td>6/9/15</td>\n",
       "      <td>5562</td>\n",
       "      <td>6.5</td>\n",
       "      <td>2015</td>\n",
       "      <td>1.379999e+08</td>\n",
       "      <td>1.392446e+09</td>\n",
       "    </tr>\n",
       "    <tr>\n",
       "      <th>1</th>\n",
       "      <td>76341</td>\n",
       "      <td>tt1392190</td>\n",
       "      <td>28.419936</td>\n",
       "      <td>150000000</td>\n",
       "      <td>378436354</td>\n",
       "      <td>Mad Max: Fury Road</td>\n",
       "      <td>Tom Hardy|Charlize Theron|Hugh Keays-Byrne|Nic...</td>\n",
       "      <td>http://www.madmaxmovie.com/</td>\n",
       "      <td>George Miller</td>\n",
       "      <td>What a Lovely Day.</td>\n",
       "      <td>...</td>\n",
       "      <td>An apocalyptic story set in the furthest reach...</td>\n",
       "      <td>120</td>\n",
       "      <td>Action|Adventure|Science Fiction|Thriller</td>\n",
       "      <td>Village Roadshow Pictures|Kennedy Miller Produ...</td>\n",
       "      <td>5/13/15</td>\n",
       "      <td>6185</td>\n",
       "      <td>7.1</td>\n",
       "      <td>2015</td>\n",
       "      <td>1.379999e+08</td>\n",
       "      <td>3.481613e+08</td>\n",
       "    </tr>\n",
       "    <tr>\n",
       "      <th>2</th>\n",
       "      <td>262500</td>\n",
       "      <td>tt2908446</td>\n",
       "      <td>13.112507</td>\n",
       "      <td>110000000</td>\n",
       "      <td>295238201</td>\n",
       "      <td>Insurgent</td>\n",
       "      <td>Shailene Woodley|Theo James|Kate Winslet|Ansel...</td>\n",
       "      <td>http://www.thedivergentseries.movie/#insurgent</td>\n",
       "      <td>Robert Schwentke</td>\n",
       "      <td>One Choice Can Destroy You</td>\n",
       "      <td>...</td>\n",
       "      <td>Beatrice Prior must confront her inner demons ...</td>\n",
       "      <td>119</td>\n",
       "      <td>Adventure|Science Fiction|Thriller</td>\n",
       "      <td>Summit Entertainment|Mandeville Films|Red Wago...</td>\n",
       "      <td>3/18/15</td>\n",
       "      <td>2480</td>\n",
       "      <td>6.3</td>\n",
       "      <td>2015</td>\n",
       "      <td>1.012000e+08</td>\n",
       "      <td>2.716190e+08</td>\n",
       "    </tr>\n",
       "    <tr>\n",
       "      <th>3</th>\n",
       "      <td>140607</td>\n",
       "      <td>tt2488496</td>\n",
       "      <td>11.173104</td>\n",
       "      <td>200000000</td>\n",
       "      <td>2068178225</td>\n",
       "      <td>Star Wars: The Force Awakens</td>\n",
       "      <td>Harrison Ford|Mark Hamill|Carrie Fisher|Adam D...</td>\n",
       "      <td>http://www.starwars.com/films/star-wars-episod...</td>\n",
       "      <td>J.J. Abrams</td>\n",
       "      <td>Every generation has a story.</td>\n",
       "      <td>...</td>\n",
       "      <td>Thirty years after defeating the Galactic Empi...</td>\n",
       "      <td>136</td>\n",
       "      <td>Action|Adventure|Science Fiction|Fantasy</td>\n",
       "      <td>Lucasfilm|Truenorth Productions|Bad Robot</td>\n",
       "      <td>12/15/15</td>\n",
       "      <td>5292</td>\n",
       "      <td>7.5</td>\n",
       "      <td>2015</td>\n",
       "      <td>1.839999e+08</td>\n",
       "      <td>1.902723e+09</td>\n",
       "    </tr>\n",
       "    <tr>\n",
       "      <th>4</th>\n",
       "      <td>168259</td>\n",
       "      <td>tt2820852</td>\n",
       "      <td>9.335014</td>\n",
       "      <td>190000000</td>\n",
       "      <td>1506249360</td>\n",
       "      <td>Furious 7</td>\n",
       "      <td>Vin Diesel|Paul Walker|Jason Statham|Michelle ...</td>\n",
       "      <td>http://www.furious7.com/</td>\n",
       "      <td>James Wan</td>\n",
       "      <td>Vengeance Hits Home</td>\n",
       "      <td>...</td>\n",
       "      <td>Deckard Shaw seeks revenge against Dominic Tor...</td>\n",
       "      <td>137</td>\n",
       "      <td>Action|Crime|Thriller</td>\n",
       "      <td>Universal Pictures|Original Film|Media Rights ...</td>\n",
       "      <td>4/1/15</td>\n",
       "      <td>2947</td>\n",
       "      <td>7.3</td>\n",
       "      <td>2015</td>\n",
       "      <td>1.747999e+08</td>\n",
       "      <td>1.385749e+09</td>\n",
       "    </tr>\n",
       "    <tr>\n",
       "      <th>...</th>\n",
       "      <td>...</td>\n",
       "      <td>...</td>\n",
       "      <td>...</td>\n",
       "      <td>...</td>\n",
       "      <td>...</td>\n",
       "      <td>...</td>\n",
       "      <td>...</td>\n",
       "      <td>...</td>\n",
       "      <td>...</td>\n",
       "      <td>...</td>\n",
       "      <td>...</td>\n",
       "      <td>...</td>\n",
       "      <td>...</td>\n",
       "      <td>...</td>\n",
       "      <td>...</td>\n",
       "      <td>...</td>\n",
       "      <td>...</td>\n",
       "      <td>...</td>\n",
       "      <td>...</td>\n",
       "      <td>...</td>\n",
       "      <td>...</td>\n",
       "    </tr>\n",
       "    <tr>\n",
       "      <th>10861</th>\n",
       "      <td>21</td>\n",
       "      <td>tt0060371</td>\n",
       "      <td>0.080598</td>\n",
       "      <td>0</td>\n",
       "      <td>0</td>\n",
       "      <td>The Endless Summer</td>\n",
       "      <td>Michael Hynson|Robert August|Lord 'Tally Ho' B...</td>\n",
       "      <td>NaN</td>\n",
       "      <td>Bruce Brown</td>\n",
       "      <td>NaN</td>\n",
       "      <td>...</td>\n",
       "      <td>The Endless Summer, by Bruce Brown, is one of ...</td>\n",
       "      <td>95</td>\n",
       "      <td>Documentary</td>\n",
       "      <td>Bruce Brown Films</td>\n",
       "      <td>6/15/66</td>\n",
       "      <td>11</td>\n",
       "      <td>7.4</td>\n",
       "      <td>1966</td>\n",
       "      <td>0.000000e+00</td>\n",
       "      <td>0.000000e+00</td>\n",
       "    </tr>\n",
       "    <tr>\n",
       "      <th>10862</th>\n",
       "      <td>20379</td>\n",
       "      <td>tt0060472</td>\n",
       "      <td>0.065543</td>\n",
       "      <td>0</td>\n",
       "      <td>0</td>\n",
       "      <td>Grand Prix</td>\n",
       "      <td>James Garner|Eva Marie Saint|Yves Montand|Tosh...</td>\n",
       "      <td>NaN</td>\n",
       "      <td>John Frankenheimer</td>\n",
       "      <td>Cinerama sweeps YOU into a drama of speed and ...</td>\n",
       "      <td>...</td>\n",
       "      <td>Grand Prix driver Pete Aron is fired by his te...</td>\n",
       "      <td>176</td>\n",
       "      <td>Action|Adventure|Drama</td>\n",
       "      <td>Cherokee Productions|Joel Productions|Douglas ...</td>\n",
       "      <td>12/21/66</td>\n",
       "      <td>20</td>\n",
       "      <td>5.7</td>\n",
       "      <td>1966</td>\n",
       "      <td>0.000000e+00</td>\n",
       "      <td>0.000000e+00</td>\n",
       "    </tr>\n",
       "    <tr>\n",
       "      <th>10863</th>\n",
       "      <td>39768</td>\n",
       "      <td>tt0060161</td>\n",
       "      <td>0.065141</td>\n",
       "      <td>0</td>\n",
       "      <td>0</td>\n",
       "      <td>Beregis Avtomobilya</td>\n",
       "      <td>Innokentiy Smoktunovskiy|Oleg Efremov|Georgi Z...</td>\n",
       "      <td>NaN</td>\n",
       "      <td>Eldar Ryazanov</td>\n",
       "      <td>NaN</td>\n",
       "      <td>...</td>\n",
       "      <td>An insurance agent who moonlights as a carthie...</td>\n",
       "      <td>94</td>\n",
       "      <td>Mystery|Comedy</td>\n",
       "      <td>Mosfilm</td>\n",
       "      <td>1/1/66</td>\n",
       "      <td>11</td>\n",
       "      <td>6.5</td>\n",
       "      <td>1966</td>\n",
       "      <td>0.000000e+00</td>\n",
       "      <td>0.000000e+00</td>\n",
       "    </tr>\n",
       "    <tr>\n",
       "      <th>10864</th>\n",
       "      <td>21449</td>\n",
       "      <td>tt0061177</td>\n",
       "      <td>0.064317</td>\n",
       "      <td>0</td>\n",
       "      <td>0</td>\n",
       "      <td>What's Up, Tiger Lily?</td>\n",
       "      <td>Tatsuya Mihashi|Akiko Wakabayashi|Mie Hama|Joh...</td>\n",
       "      <td>NaN</td>\n",
       "      <td>Woody Allen</td>\n",
       "      <td>WOODY ALLEN STRIKES BACK!</td>\n",
       "      <td>...</td>\n",
       "      <td>In comic Woody Allen's film debut, he took the...</td>\n",
       "      <td>80</td>\n",
       "      <td>Action|Comedy</td>\n",
       "      <td>Benedict Pictures Corp.</td>\n",
       "      <td>11/2/66</td>\n",
       "      <td>22</td>\n",
       "      <td>5.4</td>\n",
       "      <td>1966</td>\n",
       "      <td>0.000000e+00</td>\n",
       "      <td>0.000000e+00</td>\n",
       "    </tr>\n",
       "    <tr>\n",
       "      <th>10865</th>\n",
       "      <td>22293</td>\n",
       "      <td>tt0060666</td>\n",
       "      <td>0.035919</td>\n",
       "      <td>19000</td>\n",
       "      <td>0</td>\n",
       "      <td>Manos: The Hands of Fate</td>\n",
       "      <td>Harold P. Warren|Tom Neyman|John Reynolds|Dian...</td>\n",
       "      <td>NaN</td>\n",
       "      <td>Harold P. Warren</td>\n",
       "      <td>It's Shocking! It's Beyond Your Imagination!</td>\n",
       "      <td>...</td>\n",
       "      <td>A family gets lost on the road and stumbles up...</td>\n",
       "      <td>74</td>\n",
       "      <td>Horror</td>\n",
       "      <td>Norm-Iris</td>\n",
       "      <td>11/15/66</td>\n",
       "      <td>15</td>\n",
       "      <td>1.5</td>\n",
       "      <td>1966</td>\n",
       "      <td>1.276423e+05</td>\n",
       "      <td>0.000000e+00</td>\n",
       "    </tr>\n",
       "  </tbody>\n",
       "</table>\n",
       "<p>10866 rows × 21 columns</p>\n",
       "</div>"
      ],
      "text/plain": [
       "           id    imdb_id  popularity     budget     revenue  \\\n",
       "0      135397  tt0369610   32.985763  150000000  1513528810   \n",
       "1       76341  tt1392190   28.419936  150000000   378436354   \n",
       "2      262500  tt2908446   13.112507  110000000   295238201   \n",
       "3      140607  tt2488496   11.173104  200000000  2068178225   \n",
       "4      168259  tt2820852    9.335014  190000000  1506249360   \n",
       "...       ...        ...         ...        ...         ...   \n",
       "10861      21  tt0060371    0.080598          0           0   \n",
       "10862   20379  tt0060472    0.065543          0           0   \n",
       "10863   39768  tt0060161    0.065141          0           0   \n",
       "10864   21449  tt0061177    0.064317          0           0   \n",
       "10865   22293  tt0060666    0.035919      19000           0   \n",
       "\n",
       "                     original_title  \\\n",
       "0                    Jurassic World   \n",
       "1                Mad Max: Fury Road   \n",
       "2                         Insurgent   \n",
       "3      Star Wars: The Force Awakens   \n",
       "4                         Furious 7   \n",
       "...                             ...   \n",
       "10861            The Endless Summer   \n",
       "10862                    Grand Prix   \n",
       "10863           Beregis Avtomobilya   \n",
       "10864        What's Up, Tiger Lily?   \n",
       "10865      Manos: The Hands of Fate   \n",
       "\n",
       "                                                    cast  \\\n",
       "0      Chris Pratt|Bryce Dallas Howard|Irrfan Khan|Vi...   \n",
       "1      Tom Hardy|Charlize Theron|Hugh Keays-Byrne|Nic...   \n",
       "2      Shailene Woodley|Theo James|Kate Winslet|Ansel...   \n",
       "3      Harrison Ford|Mark Hamill|Carrie Fisher|Adam D...   \n",
       "4      Vin Diesel|Paul Walker|Jason Statham|Michelle ...   \n",
       "...                                                  ...   \n",
       "10861  Michael Hynson|Robert August|Lord 'Tally Ho' B...   \n",
       "10862  James Garner|Eva Marie Saint|Yves Montand|Tosh...   \n",
       "10863  Innokentiy Smoktunovskiy|Oleg Efremov|Georgi Z...   \n",
       "10864  Tatsuya Mihashi|Akiko Wakabayashi|Mie Hama|Joh...   \n",
       "10865  Harold P. Warren|Tom Neyman|John Reynolds|Dian...   \n",
       "\n",
       "                                                homepage            director  \\\n",
       "0                          http://www.jurassicworld.com/     Colin Trevorrow   \n",
       "1                            http://www.madmaxmovie.com/       George Miller   \n",
       "2         http://www.thedivergentseries.movie/#insurgent    Robert Schwentke   \n",
       "3      http://www.starwars.com/films/star-wars-episod...         J.J. Abrams   \n",
       "4                               http://www.furious7.com/           James Wan   \n",
       "...                                                  ...                 ...   \n",
       "10861                                                NaN         Bruce Brown   \n",
       "10862                                                NaN  John Frankenheimer   \n",
       "10863                                                NaN      Eldar Ryazanov   \n",
       "10864                                                NaN         Woody Allen   \n",
       "10865                                                NaN    Harold P. Warren   \n",
       "\n",
       "                                                 tagline  ...  \\\n",
       "0                                      The park is open.  ...   \n",
       "1                                     What a Lovely Day.  ...   \n",
       "2                             One Choice Can Destroy You  ...   \n",
       "3                          Every generation has a story.  ...   \n",
       "4                                    Vengeance Hits Home  ...   \n",
       "...                                                  ...  ...   \n",
       "10861                                                NaN  ...   \n",
       "10862  Cinerama sweeps YOU into a drama of speed and ...  ...   \n",
       "10863                                                NaN  ...   \n",
       "10864                          WOODY ALLEN STRIKES BACK!  ...   \n",
       "10865       It's Shocking! It's Beyond Your Imagination!  ...   \n",
       "\n",
       "                                                overview runtime  \\\n",
       "0      Twenty-two years after the events of Jurassic ...     124   \n",
       "1      An apocalyptic story set in the furthest reach...     120   \n",
       "2      Beatrice Prior must confront her inner demons ...     119   \n",
       "3      Thirty years after defeating the Galactic Empi...     136   \n",
       "4      Deckard Shaw seeks revenge against Dominic Tor...     137   \n",
       "...                                                  ...     ...   \n",
       "10861  The Endless Summer, by Bruce Brown, is one of ...      95   \n",
       "10862  Grand Prix driver Pete Aron is fired by his te...     176   \n",
       "10863  An insurance agent who moonlights as a carthie...      94   \n",
       "10864  In comic Woody Allen's film debut, he took the...      80   \n",
       "10865  A family gets lost on the road and stumbles up...      74   \n",
       "\n",
       "                                          genres  \\\n",
       "0      Action|Adventure|Science Fiction|Thriller   \n",
       "1      Action|Adventure|Science Fiction|Thriller   \n",
       "2             Adventure|Science Fiction|Thriller   \n",
       "3       Action|Adventure|Science Fiction|Fantasy   \n",
       "4                          Action|Crime|Thriller   \n",
       "...                                          ...   \n",
       "10861                                Documentary   \n",
       "10862                     Action|Adventure|Drama   \n",
       "10863                             Mystery|Comedy   \n",
       "10864                              Action|Comedy   \n",
       "10865                                     Horror   \n",
       "\n",
       "                                    production_companies release_date  \\\n",
       "0      Universal Studios|Amblin Entertainment|Legenda...       6/9/15   \n",
       "1      Village Roadshow Pictures|Kennedy Miller Produ...      5/13/15   \n",
       "2      Summit Entertainment|Mandeville Films|Red Wago...      3/18/15   \n",
       "3              Lucasfilm|Truenorth Productions|Bad Robot     12/15/15   \n",
       "4      Universal Pictures|Original Film|Media Rights ...       4/1/15   \n",
       "...                                                  ...          ...   \n",
       "10861                                  Bruce Brown Films      6/15/66   \n",
       "10862  Cherokee Productions|Joel Productions|Douglas ...     12/21/66   \n",
       "10863                                            Mosfilm       1/1/66   \n",
       "10864                            Benedict Pictures Corp.      11/2/66   \n",
       "10865                                          Norm-Iris     11/15/66   \n",
       "\n",
       "      vote_count  vote_average  release_year    budget_adj   revenue_adj  \n",
       "0           5562           6.5          2015  1.379999e+08  1.392446e+09  \n",
       "1           6185           7.1          2015  1.379999e+08  3.481613e+08  \n",
       "2           2480           6.3          2015  1.012000e+08  2.716190e+08  \n",
       "3           5292           7.5          2015  1.839999e+08  1.902723e+09  \n",
       "4           2947           7.3          2015  1.747999e+08  1.385749e+09  \n",
       "...          ...           ...           ...           ...           ...  \n",
       "10861         11           7.4          1966  0.000000e+00  0.000000e+00  \n",
       "10862         20           5.7          1966  0.000000e+00  0.000000e+00  \n",
       "10863         11           6.5          1966  0.000000e+00  0.000000e+00  \n",
       "10864         22           5.4          1966  0.000000e+00  0.000000e+00  \n",
       "10865         15           1.5          1966  1.276423e+05  0.000000e+00  \n",
       "\n",
       "[10866 rows x 21 columns]"
      ]
     },
     "execution_count": 210,
     "metadata": {},
     "output_type": "execute_result"
    }
   ],
   "source": [
    "tmdb_df"
   ]
  },
  {
   "cell_type": "markdown",
   "metadata": {},
   "source": [
    "#### Programmatic Assessment"
   ]
  },
  {
   "cell_type": "code",
   "execution_count": 211,
   "metadata": {},
   "outputs": [
    {
     "name": "stdout",
     "output_type": "stream",
     "text": [
      "<class 'pandas.core.frame.DataFrame'>\n",
      "RangeIndex: 10866 entries, 0 to 10865\n",
      "Data columns (total 21 columns):\n",
      " #   Column                Non-Null Count  Dtype  \n",
      "---  ------                --------------  -----  \n",
      " 0   id                    10866 non-null  int64  \n",
      " 1   imdb_id               10856 non-null  object \n",
      " 2   popularity            10866 non-null  float64\n",
      " 3   budget                10866 non-null  int64  \n",
      " 4   revenue               10866 non-null  int64  \n",
      " 5   original_title        10866 non-null  object \n",
      " 6   cast                  10790 non-null  object \n",
      " 7   homepage              2936 non-null   object \n",
      " 8   director              10822 non-null  object \n",
      " 9   tagline               8042 non-null   object \n",
      " 10  keywords              9373 non-null   object \n",
      " 11  overview              10862 non-null  object \n",
      " 12  runtime               10866 non-null  int64  \n",
      " 13  genres                10843 non-null  object \n",
      " 14  production_companies  9836 non-null   object \n",
      " 15  release_date          10866 non-null  object \n",
      " 16  vote_count            10866 non-null  int64  \n",
      " 17  vote_average          10866 non-null  float64\n",
      " 18  release_year          10866 non-null  int64  \n",
      " 19  budget_adj            10866 non-null  float64\n",
      " 20  revenue_adj           10866 non-null  float64\n",
      "dtypes: float64(4), int64(6), object(11)\n",
      "memory usage: 1.7+ MB\n"
     ]
    }
   ],
   "source": [
    "tmdb_df.info()"
   ]
  },
  {
   "cell_type": "code",
   "execution_count": 212,
   "metadata": {},
   "outputs": [
    {
     "data": {
      "text/html": [
       "<div>\n",
       "<style scoped>\n",
       "    .dataframe tbody tr th:only-of-type {\n",
       "        vertical-align: middle;\n",
       "    }\n",
       "\n",
       "    .dataframe tbody tr th {\n",
       "        vertical-align: top;\n",
       "    }\n",
       "\n",
       "    .dataframe thead th {\n",
       "        text-align: right;\n",
       "    }\n",
       "</style>\n",
       "<table border=\"1\" class=\"dataframe\">\n",
       "  <thead>\n",
       "    <tr style=\"text-align: right;\">\n",
       "      <th></th>\n",
       "      <th>id</th>\n",
       "      <th>popularity</th>\n",
       "      <th>budget</th>\n",
       "      <th>revenue</th>\n",
       "      <th>runtime</th>\n",
       "      <th>vote_count</th>\n",
       "      <th>vote_average</th>\n",
       "      <th>release_year</th>\n",
       "      <th>budget_adj</th>\n",
       "      <th>revenue_adj</th>\n",
       "    </tr>\n",
       "  </thead>\n",
       "  <tbody>\n",
       "    <tr>\n",
       "      <th>count</th>\n",
       "      <td>10866.000000</td>\n",
       "      <td>10866.000000</td>\n",
       "      <td>1.086600e+04</td>\n",
       "      <td>1.086600e+04</td>\n",
       "      <td>10866.000000</td>\n",
       "      <td>10866.000000</td>\n",
       "      <td>10866.000000</td>\n",
       "      <td>10866.000000</td>\n",
       "      <td>1.086600e+04</td>\n",
       "      <td>1.086600e+04</td>\n",
       "    </tr>\n",
       "    <tr>\n",
       "      <th>mean</th>\n",
       "      <td>66064.177434</td>\n",
       "      <td>0.646441</td>\n",
       "      <td>1.462570e+07</td>\n",
       "      <td>3.982332e+07</td>\n",
       "      <td>102.070863</td>\n",
       "      <td>217.389748</td>\n",
       "      <td>5.974922</td>\n",
       "      <td>2001.322658</td>\n",
       "      <td>1.755104e+07</td>\n",
       "      <td>5.136436e+07</td>\n",
       "    </tr>\n",
       "    <tr>\n",
       "      <th>std</th>\n",
       "      <td>92130.136561</td>\n",
       "      <td>1.000185</td>\n",
       "      <td>3.091321e+07</td>\n",
       "      <td>1.170035e+08</td>\n",
       "      <td>31.381405</td>\n",
       "      <td>575.619058</td>\n",
       "      <td>0.935142</td>\n",
       "      <td>12.812941</td>\n",
       "      <td>3.430616e+07</td>\n",
       "      <td>1.446325e+08</td>\n",
       "    </tr>\n",
       "    <tr>\n",
       "      <th>min</th>\n",
       "      <td>5.000000</td>\n",
       "      <td>0.000065</td>\n",
       "      <td>0.000000e+00</td>\n",
       "      <td>0.000000e+00</td>\n",
       "      <td>0.000000</td>\n",
       "      <td>10.000000</td>\n",
       "      <td>1.500000</td>\n",
       "      <td>1960.000000</td>\n",
       "      <td>0.000000e+00</td>\n",
       "      <td>0.000000e+00</td>\n",
       "    </tr>\n",
       "    <tr>\n",
       "      <th>25%</th>\n",
       "      <td>10596.250000</td>\n",
       "      <td>0.207583</td>\n",
       "      <td>0.000000e+00</td>\n",
       "      <td>0.000000e+00</td>\n",
       "      <td>90.000000</td>\n",
       "      <td>17.000000</td>\n",
       "      <td>5.400000</td>\n",
       "      <td>1995.000000</td>\n",
       "      <td>0.000000e+00</td>\n",
       "      <td>0.000000e+00</td>\n",
       "    </tr>\n",
       "    <tr>\n",
       "      <th>50%</th>\n",
       "      <td>20669.000000</td>\n",
       "      <td>0.383856</td>\n",
       "      <td>0.000000e+00</td>\n",
       "      <td>0.000000e+00</td>\n",
       "      <td>99.000000</td>\n",
       "      <td>38.000000</td>\n",
       "      <td>6.000000</td>\n",
       "      <td>2006.000000</td>\n",
       "      <td>0.000000e+00</td>\n",
       "      <td>0.000000e+00</td>\n",
       "    </tr>\n",
       "    <tr>\n",
       "      <th>75%</th>\n",
       "      <td>75610.000000</td>\n",
       "      <td>0.713817</td>\n",
       "      <td>1.500000e+07</td>\n",
       "      <td>2.400000e+07</td>\n",
       "      <td>111.000000</td>\n",
       "      <td>145.750000</td>\n",
       "      <td>6.600000</td>\n",
       "      <td>2011.000000</td>\n",
       "      <td>2.085325e+07</td>\n",
       "      <td>3.369710e+07</td>\n",
       "    </tr>\n",
       "    <tr>\n",
       "      <th>max</th>\n",
       "      <td>417859.000000</td>\n",
       "      <td>32.985763</td>\n",
       "      <td>4.250000e+08</td>\n",
       "      <td>2.781506e+09</td>\n",
       "      <td>900.000000</td>\n",
       "      <td>9767.000000</td>\n",
       "      <td>9.200000</td>\n",
       "      <td>2015.000000</td>\n",
       "      <td>4.250000e+08</td>\n",
       "      <td>2.827124e+09</td>\n",
       "    </tr>\n",
       "  </tbody>\n",
       "</table>\n",
       "</div>"
      ],
      "text/plain": [
       "                  id    popularity        budget       revenue       runtime  \\\n",
       "count   10866.000000  10866.000000  1.086600e+04  1.086600e+04  10866.000000   \n",
       "mean    66064.177434      0.646441  1.462570e+07  3.982332e+07    102.070863   \n",
       "std     92130.136561      1.000185  3.091321e+07  1.170035e+08     31.381405   \n",
       "min         5.000000      0.000065  0.000000e+00  0.000000e+00      0.000000   \n",
       "25%     10596.250000      0.207583  0.000000e+00  0.000000e+00     90.000000   \n",
       "50%     20669.000000      0.383856  0.000000e+00  0.000000e+00     99.000000   \n",
       "75%     75610.000000      0.713817  1.500000e+07  2.400000e+07    111.000000   \n",
       "max    417859.000000     32.985763  4.250000e+08  2.781506e+09    900.000000   \n",
       "\n",
       "         vote_count  vote_average  release_year    budget_adj   revenue_adj  \n",
       "count  10866.000000  10866.000000  10866.000000  1.086600e+04  1.086600e+04  \n",
       "mean     217.389748      5.974922   2001.322658  1.755104e+07  5.136436e+07  \n",
       "std      575.619058      0.935142     12.812941  3.430616e+07  1.446325e+08  \n",
       "min       10.000000      1.500000   1960.000000  0.000000e+00  0.000000e+00  \n",
       "25%       17.000000      5.400000   1995.000000  0.000000e+00  0.000000e+00  \n",
       "50%       38.000000      6.000000   2006.000000  0.000000e+00  0.000000e+00  \n",
       "75%      145.750000      6.600000   2011.000000  2.085325e+07  3.369710e+07  \n",
       "max     9767.000000      9.200000   2015.000000  4.250000e+08  2.827124e+09  "
      ]
     },
     "execution_count": 212,
     "metadata": {},
     "output_type": "execute_result"
    }
   ],
   "source": [
    "tmdb_df.describe()"
   ]
  },
  {
   "cell_type": "code",
   "execution_count": 213,
   "metadata": {},
   "outputs": [
    {
     "data": {
      "text/plain": [
       "1"
      ]
     },
     "execution_count": 213,
     "metadata": {},
     "output_type": "execute_result"
    }
   ],
   "source": [
    "sum(tmdb_df['id'].duplicated())"
   ]
  },
  {
   "cell_type": "code",
   "execution_count": 214,
   "metadata": {},
   "outputs": [
    {
     "data": {
      "text/html": [
       "<div>\n",
       "<style scoped>\n",
       "    .dataframe tbody tr th:only-of-type {\n",
       "        vertical-align: middle;\n",
       "    }\n",
       "\n",
       "    .dataframe tbody tr th {\n",
       "        vertical-align: top;\n",
       "    }\n",
       "\n",
       "    .dataframe thead th {\n",
       "        text-align: right;\n",
       "    }\n",
       "</style>\n",
       "<table border=\"1\" class=\"dataframe\">\n",
       "  <thead>\n",
       "    <tr style=\"text-align: right;\">\n",
       "      <th></th>\n",
       "      <th>id</th>\n",
       "      <th>imdb_id</th>\n",
       "      <th>popularity</th>\n",
       "      <th>budget</th>\n",
       "      <th>revenue</th>\n",
       "      <th>original_title</th>\n",
       "      <th>cast</th>\n",
       "      <th>homepage</th>\n",
       "      <th>director</th>\n",
       "      <th>tagline</th>\n",
       "      <th>...</th>\n",
       "      <th>overview</th>\n",
       "      <th>runtime</th>\n",
       "      <th>genres</th>\n",
       "      <th>production_companies</th>\n",
       "      <th>release_date</th>\n",
       "      <th>vote_count</th>\n",
       "      <th>vote_average</th>\n",
       "      <th>release_year</th>\n",
       "      <th>budget_adj</th>\n",
       "      <th>revenue_adj</th>\n",
       "    </tr>\n",
       "  </thead>\n",
       "  <tbody>\n",
       "    <tr>\n",
       "      <th>2090</th>\n",
       "      <td>42194</td>\n",
       "      <td>tt0411951</td>\n",
       "      <td>0.59643</td>\n",
       "      <td>30000000</td>\n",
       "      <td>967000</td>\n",
       "      <td>TEKKEN</td>\n",
       "      <td>Jon Foo|Kelly Overton|Cary-Hiroyuki Tagawa|Ian...</td>\n",
       "      <td>NaN</td>\n",
       "      <td>Dwight H. Little</td>\n",
       "      <td>Survival is no game</td>\n",
       "      <td>...</td>\n",
       "      <td>In the year of 2039, after World Wars destroy ...</td>\n",
       "      <td>92</td>\n",
       "      <td>Crime|Drama|Action|Thriller|Science Fiction</td>\n",
       "      <td>Namco|Light Song Films</td>\n",
       "      <td>3/20/10</td>\n",
       "      <td>110</td>\n",
       "      <td>5.0</td>\n",
       "      <td>2010</td>\n",
       "      <td>30000000.0</td>\n",
       "      <td>967000.0</td>\n",
       "    </tr>\n",
       "  </tbody>\n",
       "</table>\n",
       "<p>1 rows × 21 columns</p>\n",
       "</div>"
      ],
      "text/plain": [
       "         id    imdb_id  popularity    budget  revenue original_title  \\\n",
       "2090  42194  tt0411951     0.59643  30000000   967000         TEKKEN   \n",
       "\n",
       "                                                   cast homepage  \\\n",
       "2090  Jon Foo|Kelly Overton|Cary-Hiroyuki Tagawa|Ian...      NaN   \n",
       "\n",
       "              director              tagline  ...  \\\n",
       "2090  Dwight H. Little  Survival is no game  ...   \n",
       "\n",
       "                                               overview runtime  \\\n",
       "2090  In the year of 2039, after World Wars destroy ...      92   \n",
       "\n",
       "                                           genres    production_companies  \\\n",
       "2090  Crime|Drama|Action|Thriller|Science Fiction  Namco|Light Song Films   \n",
       "\n",
       "     release_date vote_count  vote_average  release_year  budget_adj  \\\n",
       "2090      3/20/10        110           5.0          2010  30000000.0   \n",
       "\n",
       "      revenue_adj  \n",
       "2090     967000.0  \n",
       "\n",
       "[1 rows x 21 columns]"
      ]
     },
     "execution_count": 214,
     "metadata": {},
     "output_type": "execute_result"
    }
   ],
   "source": [
    "tmdb_df[tmdb_df['id'].duplicated()]"
   ]
  },
  {
   "cell_type": "code",
   "execution_count": 215,
   "metadata": {},
   "outputs": [
    {
     "data": {
      "text/plain": [
       "0.109305    2\n",
       "0.114027    2\n",
       "0.126182    2\n",
       "0.247926    2\n",
       "0.410235    2\n",
       "           ..\n",
       "0.645437    1\n",
       "0.088796    1\n",
       "0.155075    1\n",
       "0.596755    1\n",
       "0.234375    1\n",
       "Name: popularity, Length: 10814, dtype: int64"
      ]
     },
     "execution_count": 215,
     "metadata": {},
     "output_type": "execute_result"
    }
   ],
   "source": [
    "tmdb_df.popularity.value_counts()"
   ]
  },
  {
   "cell_type": "code",
   "execution_count": 216,
   "metadata": {},
   "outputs": [
    {
     "data": {
      "text/plain": [
       "9110"
      ]
     },
     "execution_count": 216,
     "metadata": {},
     "output_type": "execute_result"
    }
   ],
   "source": [
    "len(tmdb_df[tmdb_df['popularity'] <= 1])"
   ]
  },
  {
   "cell_type": "code",
   "execution_count": 217,
   "metadata": {},
   "outputs": [
    {
     "data": {
      "text/plain": [
       "1756"
      ]
     },
     "execution_count": 217,
     "metadata": {},
     "output_type": "execute_result"
    }
   ],
   "source": [
    "len(tmdb_df[tmdb_df['popularity'] > 1])"
   ]
  },
  {
   "cell_type": "code",
   "execution_count": 218,
   "metadata": {},
   "outputs": [
    {
     "data": {
      "text/plain": [
       "7024.227383999999"
      ]
     },
     "execution_count": 218,
     "metadata": {},
     "output_type": "execute_result"
    }
   ],
   "source": [
    "tmdb_df.popularity.sum()"
   ]
  },
  {
   "cell_type": "code",
   "execution_count": 219,
   "metadata": {},
   "outputs": [
    {
     "data": {
      "text/plain": [
       "6.1    496\n",
       "6.0    495\n",
       "5.8    486\n",
       "5.9    473\n",
       "6.2    464\n",
       "      ... \n",
       "8.9      1\n",
       "8.6      1\n",
       "9.2      1\n",
       "8.7      1\n",
       "2.0      1\n",
       "Name: vote_average, Length: 72, dtype: int64"
      ]
     },
     "execution_count": 219,
     "metadata": {},
     "output_type": "execute_result"
    }
   ],
   "source": [
    "tmdb_df.vote_average.value_counts()"
   ]
  },
  {
   "cell_type": "code",
   "execution_count": 220,
   "metadata": {},
   "outputs": [
    {
     "data": {
      "text/plain": [
       "5056"
      ]
     },
     "execution_count": 220,
     "metadata": {},
     "output_type": "execute_result"
    }
   ],
   "source": [
    "len(tmdb_df[tmdb_df['vote_average'] <= 5.97])"
   ]
  },
  {
   "cell_type": "code",
   "execution_count": 221,
   "metadata": {},
   "outputs": [
    {
     "data": {
      "text/plain": [
       "5810"
      ]
     },
     "execution_count": 221,
     "metadata": {},
     "output_type": "execute_result"
    }
   ],
   "source": [
    "len(tmdb_df[tmdb_df['vote_average'] > 5.97])"
   ]
  },
  {
   "cell_type": "code",
   "execution_count": 222,
   "metadata": {},
   "outputs": [
    {
     "data": {
      "text/plain": [
       "0"
      ]
     },
     "execution_count": 222,
     "metadata": {},
     "output_type": "execute_result"
    }
   ],
   "source": [
    "len(tmdb_df[tmdb_df['vote_average'] == 0])"
   ]
  },
  {
   "cell_type": "code",
   "execution_count": 223,
   "metadata": {},
   "outputs": [
    {
     "data": {
      "text/html": [
       "<div>\n",
       "<style scoped>\n",
       "    .dataframe tbody tr th:only-of-type {\n",
       "        vertical-align: middle;\n",
       "    }\n",
       "\n",
       "    .dataframe tbody tr th {\n",
       "        vertical-align: top;\n",
       "    }\n",
       "\n",
       "    .dataframe thead th {\n",
       "        text-align: right;\n",
       "    }\n",
       "</style>\n",
       "<table border=\"1\" class=\"dataframe\">\n",
       "  <thead>\n",
       "    <tr style=\"text-align: right;\">\n",
       "      <th></th>\n",
       "      <th>id</th>\n",
       "      <th>imdb_id</th>\n",
       "      <th>popularity</th>\n",
       "      <th>budget</th>\n",
       "      <th>revenue</th>\n",
       "      <th>original_title</th>\n",
       "      <th>cast</th>\n",
       "      <th>homepage</th>\n",
       "      <th>director</th>\n",
       "      <th>tagline</th>\n",
       "      <th>...</th>\n",
       "      <th>overview</th>\n",
       "      <th>runtime</th>\n",
       "      <th>genres</th>\n",
       "      <th>production_companies</th>\n",
       "      <th>release_date</th>\n",
       "      <th>vote_count</th>\n",
       "      <th>vote_average</th>\n",
       "      <th>release_year</th>\n",
       "      <th>budget_adj</th>\n",
       "      <th>revenue_adj</th>\n",
       "    </tr>\n",
       "  </thead>\n",
       "  <tbody>\n",
       "    <tr>\n",
       "      <th>193</th>\n",
       "      <td>288036</td>\n",
       "      <td>tt3165612</td>\n",
       "      <td>0.758133</td>\n",
       "      <td>0</td>\n",
       "      <td>3214116</td>\n",
       "      <td>Sleeping with Other People</td>\n",
       "      <td>Jason Sudeikis|Alison Brie|Adam Scott|Natasha ...</td>\n",
       "      <td>NaN</td>\n",
       "      <td>Leslye Headland</td>\n",
       "      <td>A romantic comedy with commitment issues.</td>\n",
       "      <td>...</td>\n",
       "      <td>Can two serial cheaters get a second chance at...</td>\n",
       "      <td>100</td>\n",
       "      <td>Comedy</td>\n",
       "      <td>Sidney Kimmel Entertainment|Gary Sanchez Produ...</td>\n",
       "      <td>6/26/15</td>\n",
       "      <td>197</td>\n",
       "      <td>6.2</td>\n",
       "      <td>2015</td>\n",
       "      <td>0.000000e+00</td>\n",
       "      <td>2.956985e+06</td>\n",
       "    </tr>\n",
       "    <tr>\n",
       "      <th>8455</th>\n",
       "      <td>32047</td>\n",
       "      <td>tt0082945</td>\n",
       "      <td>0.254886</td>\n",
       "      <td>0</td>\n",
       "      <td>0</td>\n",
       "      <td>Prince of the City</td>\n",
       "      <td>Treat Williams|Jerry Orbach|Richard Foronjy|Do...</td>\n",
       "      <td>NaN</td>\n",
       "      <td>Sidney Lumet</td>\n",
       "      <td>A cop is turning. Nobody's safe.</td>\n",
       "      <td>...</td>\n",
       "      <td>New York City detective Daniel Ciello agrees t...</td>\n",
       "      <td>167</td>\n",
       "      <td>Drama|Thriller|Crime</td>\n",
       "      <td>Orion Pictures Corporation</td>\n",
       "      <td>8/20/81</td>\n",
       "      <td>17</td>\n",
       "      <td>6.6</td>\n",
       "      <td>1981</td>\n",
       "      <td>0.000000e+00</td>\n",
       "      <td>0.000000e+00</td>\n",
       "    </tr>\n",
       "    <tr>\n",
       "      <th>2921</th>\n",
       "      <td>2309</td>\n",
       "      <td>tt0494238</td>\n",
       "      <td>1.380024</td>\n",
       "      <td>60000000</td>\n",
       "      <td>57490374</td>\n",
       "      <td>Inkheart</td>\n",
       "      <td>Brendan Fraser|Sienna Guillory|Andy Serkis|Eli...</td>\n",
       "      <td>http://www.inkheartmovie.com/</td>\n",
       "      <td>Iain Softley</td>\n",
       "      <td>Every story ever written is just waiting to be...</td>\n",
       "      <td>...</td>\n",
       "      <td>The adventures of a father and his young daugh...</td>\n",
       "      <td>106</td>\n",
       "      <td>Adventure|Family|Fantasy</td>\n",
       "      <td>New Line Cinema|Internationale Filmproduktion ...</td>\n",
       "      <td>12/11/08</td>\n",
       "      <td>302</td>\n",
       "      <td>5.8</td>\n",
       "      <td>2008</td>\n",
       "      <td>6.076720e+07</td>\n",
       "      <td>5.822548e+07</td>\n",
       "    </tr>\n",
       "    <tr>\n",
       "      <th>4550</th>\n",
       "      <td>84200</td>\n",
       "      <td>tt1996264</td>\n",
       "      <td>0.518403</td>\n",
       "      <td>850000</td>\n",
       "      <td>1243961</td>\n",
       "      <td>For a Good Time, Call...</td>\n",
       "      <td>Ari Graynor|Lauren Miller|Mark Webber|Justin L...</td>\n",
       "      <td>NaN</td>\n",
       "      <td>Jamie Travis</td>\n",
       "      <td>Lose your hang-ups. Find your calling.</td>\n",
       "      <td>...</td>\n",
       "      <td>College \"frenemies\" Lauren and Katie move in t...</td>\n",
       "      <td>85</td>\n",
       "      <td>Comedy</td>\n",
       "      <td>AdScott Pictures</td>\n",
       "      <td>8/31/12</td>\n",
       "      <td>69</td>\n",
       "      <td>5.8</td>\n",
       "      <td>2012</td>\n",
       "      <td>8.072826e+05</td>\n",
       "      <td>1.181445e+06</td>\n",
       "    </tr>\n",
       "    <tr>\n",
       "      <th>2411</th>\n",
       "      <td>14</td>\n",
       "      <td>tt0169547</td>\n",
       "      <td>3.555720</td>\n",
       "      <td>15000000</td>\n",
       "      <td>356296601</td>\n",
       "      <td>American Beauty</td>\n",
       "      <td>Kevin Spacey|Annette Bening|Thora Birch|Wes Be...</td>\n",
       "      <td>http://www.dreamworks.com/ab/</td>\n",
       "      <td>Sam Mendes</td>\n",
       "      <td>Look closer.</td>\n",
       "      <td>...</td>\n",
       "      <td>Lester Burnham, a depressed suburban father in...</td>\n",
       "      <td>122</td>\n",
       "      <td>Drama</td>\n",
       "      <td>DreamWorks SKG|Jinks/Cohen Company</td>\n",
       "      <td>9/15/99</td>\n",
       "      <td>1756</td>\n",
       "      <td>7.7</td>\n",
       "      <td>1999</td>\n",
       "      <td>1.963579e+07</td>\n",
       "      <td>4.664111e+08</td>\n",
       "    </tr>\n",
       "  </tbody>\n",
       "</table>\n",
       "<p>5 rows × 21 columns</p>\n",
       "</div>"
      ],
      "text/plain": [
       "          id    imdb_id  popularity    budget    revenue  \\\n",
       "193   288036  tt3165612    0.758133         0    3214116   \n",
       "8455   32047  tt0082945    0.254886         0          0   \n",
       "2921    2309  tt0494238    1.380024  60000000   57490374   \n",
       "4550   84200  tt1996264    0.518403    850000    1243961   \n",
       "2411      14  tt0169547    3.555720  15000000  356296601   \n",
       "\n",
       "                  original_title  \\\n",
       "193   Sleeping with Other People   \n",
       "8455          Prince of the City   \n",
       "2921                    Inkheart   \n",
       "4550    For a Good Time, Call...   \n",
       "2411             American Beauty   \n",
       "\n",
       "                                                   cast  \\\n",
       "193   Jason Sudeikis|Alison Brie|Adam Scott|Natasha ...   \n",
       "8455  Treat Williams|Jerry Orbach|Richard Foronjy|Do...   \n",
       "2921  Brendan Fraser|Sienna Guillory|Andy Serkis|Eli...   \n",
       "4550  Ari Graynor|Lauren Miller|Mark Webber|Justin L...   \n",
       "2411  Kevin Spacey|Annette Bening|Thora Birch|Wes Be...   \n",
       "\n",
       "                           homepage         director  \\\n",
       "193                             NaN  Leslye Headland   \n",
       "8455                            NaN     Sidney Lumet   \n",
       "2921  http://www.inkheartmovie.com/     Iain Softley   \n",
       "4550                            NaN     Jamie Travis   \n",
       "2411  http://www.dreamworks.com/ab/       Sam Mendes   \n",
       "\n",
       "                                                tagline  ...  \\\n",
       "193           A romantic comedy with commitment issues.  ...   \n",
       "8455                   A cop is turning. Nobody's safe.  ...   \n",
       "2921  Every story ever written is just waiting to be...  ...   \n",
       "4550             Lose your hang-ups. Find your calling.  ...   \n",
       "2411                                       Look closer.  ...   \n",
       "\n",
       "                                               overview runtime  \\\n",
       "193   Can two serial cheaters get a second chance at...     100   \n",
       "8455  New York City detective Daniel Ciello agrees t...     167   \n",
       "2921  The adventures of a father and his young daugh...     106   \n",
       "4550  College \"frenemies\" Lauren and Katie move in t...      85   \n",
       "2411  Lester Burnham, a depressed suburban father in...     122   \n",
       "\n",
       "                        genres  \\\n",
       "193                     Comedy   \n",
       "8455      Drama|Thriller|Crime   \n",
       "2921  Adventure|Family|Fantasy   \n",
       "4550                    Comedy   \n",
       "2411                     Drama   \n",
       "\n",
       "                                   production_companies release_date  \\\n",
       "193   Sidney Kimmel Entertainment|Gary Sanchez Produ...      6/26/15   \n",
       "8455                         Orion Pictures Corporation      8/20/81   \n",
       "2921  New Line Cinema|Internationale Filmproduktion ...     12/11/08   \n",
       "4550                                   AdScott Pictures      8/31/12   \n",
       "2411                 DreamWorks SKG|Jinks/Cohen Company      9/15/99   \n",
       "\n",
       "     vote_count  vote_average  release_year    budget_adj   revenue_adj  \n",
       "193         197           6.2          2015  0.000000e+00  2.956985e+06  \n",
       "8455         17           6.6          1981  0.000000e+00  0.000000e+00  \n",
       "2921        302           5.8          2008  6.076720e+07  5.822548e+07  \n",
       "4550         69           5.8          2012  8.072826e+05  1.181445e+06  \n",
       "2411       1756           7.7          1999  1.963579e+07  4.664111e+08  \n",
       "\n",
       "[5 rows x 21 columns]"
      ]
     },
     "execution_count": 223,
     "metadata": {},
     "output_type": "execute_result"
    }
   ],
   "source": [
    "tmdb_df.sample(5)"
   ]
  },
  {
   "cell_type": "code",
   "execution_count": 224,
   "metadata": {},
   "outputs": [
    {
     "data": {
      "text/plain": [
       "id                         0\n",
       "imdb_id                   10\n",
       "popularity                 0\n",
       "budget                     0\n",
       "revenue                    0\n",
       "original_title             0\n",
       "cast                      76\n",
       "homepage                7930\n",
       "director                  44\n",
       "tagline                 2824\n",
       "keywords                1493\n",
       "overview                   4\n",
       "runtime                    0\n",
       "genres                    23\n",
       "production_companies    1030\n",
       "release_date               0\n",
       "vote_count                 0\n",
       "vote_average               0\n",
       "release_year               0\n",
       "budget_adj                 0\n",
       "revenue_adj                0\n",
       "dtype: int64"
      ]
     },
     "execution_count": 224,
     "metadata": {},
     "output_type": "execute_result"
    }
   ],
   "source": [
    "tmdb_df.isna().sum()"
   ]
  },
  {
   "cell_type": "code",
   "execution_count": 225,
   "metadata": {},
   "outputs": [
    {
     "data": {
      "text/plain": [
       "5696"
      ]
     },
     "execution_count": 225,
     "metadata": {},
     "output_type": "execute_result"
    }
   ],
   "source": [
    "len(tmdb_df[tmdb_df['budget_adj'] == 0])"
   ]
  },
  {
   "cell_type": "code",
   "execution_count": 226,
   "metadata": {},
   "outputs": [
    {
     "data": {
      "text/plain": [
       "6016"
      ]
     },
     "execution_count": 226,
     "metadata": {},
     "output_type": "execute_result"
    }
   ],
   "source": [
    "len(tmdb_df[tmdb_df['revenue_adj'] == 0])"
   ]
  },
  {
   "cell_type": "code",
   "execution_count": 227,
   "metadata": {},
   "outputs": [
    {
     "data": {
      "text/plain": [
       "5696"
      ]
     },
     "execution_count": 227,
     "metadata": {},
     "output_type": "execute_result"
    }
   ],
   "source": [
    "len(tmdb_df[tmdb_df['budget'] == 0])"
   ]
  },
  {
   "cell_type": "code",
   "execution_count": 228,
   "metadata": {},
   "outputs": [
    {
     "data": {
      "text/plain": [
       "6016"
      ]
     },
     "execution_count": 228,
     "metadata": {},
     "output_type": "execute_result"
    }
   ],
   "source": [
    "len(tmdb_df[tmdb_df['revenue'] == 0])"
   ]
  },
  {
   "cell_type": "code",
   "execution_count": 229,
   "metadata": {},
   "outputs": [
    {
     "data": {
      "text/plain": [
       "id                         0\n",
       "imdb_id                    0\n",
       "popularity                 0\n",
       "budget                  5696\n",
       "revenue                 6016\n",
       "original_title             0\n",
       "cast                       0\n",
       "homepage                   0\n",
       "director                   0\n",
       "tagline                    0\n",
       "keywords                   0\n",
       "overview                   0\n",
       "runtime                   31\n",
       "genres                     0\n",
       "production_companies       0\n",
       "release_date               0\n",
       "vote_count                 0\n",
       "vote_average               0\n",
       "release_year               0\n",
       "budget_adj              5696\n",
       "revenue_adj             6016\n",
       "dtype: int64"
      ]
     },
     "execution_count": 229,
     "metadata": {},
     "output_type": "execute_result"
    }
   ],
   "source": [
    "tmdb_df.isin([0]).sum()"
   ]
  },
  {
   "cell_type": "markdown",
   "metadata": {},
   "source": [
    "#### Data Assessment Report"
   ]
  },
  {
   "cell_type": "markdown",
   "metadata": {},
   "source": [
    "##### Quality Issues:\n",
    "\n",
    "   1. Dropping Dublicated **id**.\n",
    "   2. Dropping unneeded columns.\n",
    "   3. Converting zeros in **budget_adj** & **revenue_adj** to np-NaN.\n",
    "   4. Dropping all rows with Nan Values except **revenue_adj**.\n",
    "   5. Converting **release_date** from object into datetime."
   ]
  },
  {
   "cell_type": "markdown",
   "metadata": {},
   "source": [
    "##### Tideness Issues:\n",
    "\n",
    "   6. Separate **release_date** into **release_day**, **release_month** and **release_year** (3 columns) and Dropping **release_date**."
   ]
  },
  {
   "cell_type": "markdown",
   "metadata": {},
   "source": [
    "### Data Cleaning"
   ]
  },
  {
   "cell_type": "markdown",
   "metadata": {},
   "source": [
    "#### Taking a copy for cleaning process:"
   ]
  },
  {
   "cell_type": "code",
   "execution_count": 230,
   "metadata": {},
   "outputs": [],
   "source": [
    "tmdb_df_cleaned = tmdb_df.copy()"
   ]
  },
  {
   "cell_type": "markdown",
   "metadata": {
    "collapsed": true
   },
   "source": [
    "#### Cleaning Quality Issues:"
   ]
  },
  {
   "cell_type": "markdown",
   "metadata": {},
   "source": [
    "###### 1. Define"
   ]
  },
  {
   "cell_type": "markdown",
   "metadata": {},
   "source": [
    "Dropping Dublicated **id**."
   ]
  },
  {
   "cell_type": "markdown",
   "metadata": {},
   "source": [
    "###### Code"
   ]
  },
  {
   "cell_type": "code",
   "execution_count": 231,
   "metadata": {},
   "outputs": [],
   "source": [
    "# sorting by id \n",
    "tmdb_df_cleaned.sort_values('id', inplace = True) \n",
    "  \n",
    "# dropping ALL duplicates values \n",
    "tmdb_df_cleaned.drop_duplicates(subset ='id', \n",
    "                     keep = False, inplace = True) "
   ]
  },
  {
   "cell_type": "markdown",
   "metadata": {},
   "source": [
    "###### Test"
   ]
  },
  {
   "cell_type": "code",
   "execution_count": 232,
   "metadata": {},
   "outputs": [
    {
     "data": {
      "text/plain": [
       "0"
      ]
     },
     "execution_count": 232,
     "metadata": {},
     "output_type": "execute_result"
    }
   ],
   "source": [
    "sum(tmdb_df_cleaned['id'].duplicated())"
   ]
  },
  {
   "cell_type": "markdown",
   "metadata": {},
   "source": [
    "###### 2. Define"
   ]
  },
  {
   "cell_type": "markdown",
   "metadata": {},
   "source": [
    "Dropping unneeded columns."
   ]
  },
  {
   "cell_type": "markdown",
   "metadata": {},
   "source": [
    "###### Code"
   ]
  },
  {
   "cell_type": "code",
   "execution_count": 233,
   "metadata": {},
   "outputs": [],
   "source": [
    "# Dropping (imdb_id, budget, revenue, homepage, tagline, keywords, overview, release_year) coloumns \n",
    "\n",
    "unneeded_coulmns = ['imdb_id',\n",
    "                    'budget',\n",
    "                    'revenue',\n",
    "                    'homepage',\n",
    "                    'tagline',\n",
    "                    'keywords',\n",
    "                    'overview',\n",
    "                    'release_year']\n",
    "\n",
    "tmdb_df_cleaned.drop(unneeded_coulmns, axis=1, inplace=True)"
   ]
  },
  {
   "cell_type": "markdown",
   "metadata": {},
   "source": [
    "###### Test"
   ]
  },
  {
   "cell_type": "code",
   "execution_count": 234,
   "metadata": {},
   "outputs": [
    {
     "name": "stdout",
     "output_type": "stream",
     "text": [
      "<class 'pandas.core.frame.DataFrame'>\n",
      "Int64Index: 10864 entries, 8088 to 3460\n",
      "Data columns (total 13 columns):\n",
      " #   Column                Non-Null Count  Dtype  \n",
      "---  ------                --------------  -----  \n",
      " 0   id                    10864 non-null  int64  \n",
      " 1   popularity            10864 non-null  float64\n",
      " 2   original_title        10864 non-null  object \n",
      " 3   cast                  10788 non-null  object \n",
      " 4   director              10820 non-null  object \n",
      " 5   runtime               10864 non-null  int64  \n",
      " 6   genres                10841 non-null  object \n",
      " 7   production_companies  9834 non-null   object \n",
      " 8   release_date          10864 non-null  object \n",
      " 9   vote_count            10864 non-null  int64  \n",
      " 10  vote_average          10864 non-null  float64\n",
      " 11  budget_adj            10864 non-null  float64\n",
      " 12  revenue_adj           10864 non-null  float64\n",
      "dtypes: float64(4), int64(3), object(6)\n",
      "memory usage: 1.2+ MB\n"
     ]
    }
   ],
   "source": [
    "tmdb_df_cleaned.info()"
   ]
  },
  {
   "cell_type": "markdown",
   "metadata": {},
   "source": [
    "###### 3. Define"
   ]
  },
  {
   "cell_type": "markdown",
   "metadata": {},
   "source": [
    "Converting zeros in **budget_adj** & **revenue_adj** to np-NaN."
   ]
  },
  {
   "cell_type": "markdown",
   "metadata": {},
   "source": [
    "###### Code"
   ]
  },
  {
   "cell_type": "code",
   "execution_count": 235,
   "metadata": {},
   "outputs": [],
   "source": [
    "# Converting zeros in budget_adj to np-NaN\n",
    "tmdb_df_cleaned['budget_adj'].replace(0, np.nan, inplace = True)\n",
    "  \n",
    "# Converting zeros in revenue_adj to np-NaN\n",
    "tmdb_df_cleaned['revenue_adj'].replace(0, np.nan, inplace = True)"
   ]
  },
  {
   "cell_type": "markdown",
   "metadata": {},
   "source": [
    "###### Test"
   ]
  },
  {
   "cell_type": "code",
   "execution_count": 236,
   "metadata": {},
   "outputs": [
    {
     "name": "stdout",
     "output_type": "stream",
     "text": [
      "<class 'pandas.core.frame.DataFrame'>\n",
      "Int64Index: 10864 entries, 8088 to 3460\n",
      "Data columns (total 13 columns):\n",
      " #   Column                Non-Null Count  Dtype  \n",
      "---  ------                --------------  -----  \n",
      " 0   id                    10864 non-null  int64  \n",
      " 1   popularity            10864 non-null  float64\n",
      " 2   original_title        10864 non-null  object \n",
      " 3   cast                  10788 non-null  object \n",
      " 4   director              10820 non-null  object \n",
      " 5   runtime               10864 non-null  int64  \n",
      " 6   genres                10841 non-null  object \n",
      " 7   production_companies  9834 non-null   object \n",
      " 8   release_date          10864 non-null  object \n",
      " 9   vote_count            10864 non-null  int64  \n",
      " 10  vote_average          10864 non-null  float64\n",
      " 11  budget_adj            5168 non-null   float64\n",
      " 12  revenue_adj           4848 non-null   float64\n",
      "dtypes: float64(4), int64(3), object(6)\n",
      "memory usage: 1.2+ MB\n"
     ]
    }
   ],
   "source": [
    "tmdb_df_cleaned.info()"
   ]
  },
  {
   "cell_type": "markdown",
   "metadata": {},
   "source": [
    "###### 4. Define"
   ]
  },
  {
   "cell_type": "markdown",
   "metadata": {},
   "source": [
    "Dropping all rows with Nan Values except **revenue_adj**."
   ]
  },
  {
   "cell_type": "markdown",
   "metadata": {},
   "source": [
    "###### Code"
   ]
  },
  {
   "cell_type": "code",
   "execution_count": 237,
   "metadata": {},
   "outputs": [],
   "source": [
    "# Dropping all rows with Nan Values except revenue_adj.\n",
    "tmdb_df_cleaned.dropna(subset=[n for n in tmdb_df_cleaned if n != 'revenue_adj'], inplace = True)"
   ]
  },
  {
   "cell_type": "markdown",
   "metadata": {},
   "source": [
    "###### Test"
   ]
  },
  {
   "cell_type": "code",
   "execution_count": 238,
   "metadata": {},
   "outputs": [
    {
     "name": "stdout",
     "output_type": "stream",
     "text": [
      "<class 'pandas.core.frame.DataFrame'>\n",
      "Int64Index: 5020 entries, 8088 to 3460\n",
      "Data columns (total 13 columns):\n",
      " #   Column                Non-Null Count  Dtype  \n",
      "---  ------                --------------  -----  \n",
      " 0   id                    5020 non-null   int64  \n",
      " 1   popularity            5020 non-null   float64\n",
      " 2   original_title        5020 non-null   object \n",
      " 3   cast                  5020 non-null   object \n",
      " 4   director              5020 non-null   object \n",
      " 5   runtime               5020 non-null   int64  \n",
      " 6   genres                5020 non-null   object \n",
      " 7   production_companies  5020 non-null   object \n",
      " 8   release_date          5020 non-null   object \n",
      " 9   vote_count            5020 non-null   int64  \n",
      " 10  vote_average          5020 non-null   float64\n",
      " 11  budget_adj            5020 non-null   float64\n",
      " 12  revenue_adj           3804 non-null   float64\n",
      "dtypes: float64(4), int64(3), object(6)\n",
      "memory usage: 549.1+ KB\n"
     ]
    }
   ],
   "source": [
    "tmdb_df_cleaned.info()"
   ]
  },
  {
   "cell_type": "markdown",
   "metadata": {},
   "source": [
    "###### 5. Define"
   ]
  },
  {
   "cell_type": "markdown",
   "metadata": {},
   "source": [
    "Converting **release_date** coloumn from object into datetime."
   ]
  },
  {
   "cell_type": "markdown",
   "metadata": {},
   "source": [
    "###### Code"
   ]
  },
  {
   "cell_type": "code",
   "execution_count": 239,
   "metadata": {},
   "outputs": [],
   "source": [
    "# Converting from object into datetime\n",
    "\n",
    "tmdb_df_cleaned['release_date'] =  pd.to_datetime(tmdb_df_cleaned['release_date'], infer_datetime_format=True)"
   ]
  },
  {
   "cell_type": "markdown",
   "metadata": {},
   "source": [
    "###### Test"
   ]
  },
  {
   "cell_type": "code",
   "execution_count": 240,
   "metadata": {},
   "outputs": [
    {
     "name": "stdout",
     "output_type": "stream",
     "text": [
      "<class 'pandas.core.frame.DataFrame'>\n",
      "Int64Index: 5020 entries, 8088 to 3460\n",
      "Data columns (total 13 columns):\n",
      " #   Column                Non-Null Count  Dtype         \n",
      "---  ------                --------------  -----         \n",
      " 0   id                    5020 non-null   int64         \n",
      " 1   popularity            5020 non-null   float64       \n",
      " 2   original_title        5020 non-null   object        \n",
      " 3   cast                  5020 non-null   object        \n",
      " 4   director              5020 non-null   object        \n",
      " 5   runtime               5020 non-null   int64         \n",
      " 6   genres                5020 non-null   object        \n",
      " 7   production_companies  5020 non-null   object        \n",
      " 8   release_date          5020 non-null   datetime64[ns]\n",
      " 9   vote_count            5020 non-null   int64         \n",
      " 10  vote_average          5020 non-null   float64       \n",
      " 11  budget_adj            5020 non-null   float64       \n",
      " 12  revenue_adj           3804 non-null   float64       \n",
      "dtypes: datetime64[ns](1), float64(4), int64(3), object(5)\n",
      "memory usage: 549.1+ KB\n"
     ]
    }
   ],
   "source": [
    "tmdb_df_cleaned.info()"
   ]
  },
  {
   "cell_type": "code",
   "execution_count": 241,
   "metadata": {},
   "outputs": [
    {
     "data": {
      "text/html": [
       "<div>\n",
       "<style scoped>\n",
       "    .dataframe tbody tr th:only-of-type {\n",
       "        vertical-align: middle;\n",
       "    }\n",
       "\n",
       "    .dataframe tbody tr th {\n",
       "        vertical-align: top;\n",
       "    }\n",
       "\n",
       "    .dataframe thead th {\n",
       "        text-align: right;\n",
       "    }\n",
       "</style>\n",
       "<table border=\"1\" class=\"dataframe\">\n",
       "  <thead>\n",
       "    <tr style=\"text-align: right;\">\n",
       "      <th></th>\n",
       "      <th>id</th>\n",
       "      <th>popularity</th>\n",
       "      <th>original_title</th>\n",
       "      <th>cast</th>\n",
       "      <th>director</th>\n",
       "      <th>runtime</th>\n",
       "      <th>genres</th>\n",
       "      <th>production_companies</th>\n",
       "      <th>release_date</th>\n",
       "      <th>vote_count</th>\n",
       "      <th>vote_average</th>\n",
       "      <th>budget_adj</th>\n",
       "      <th>revenue_adj</th>\n",
       "    </tr>\n",
       "  </thead>\n",
       "  <tbody>\n",
       "    <tr>\n",
       "      <th>8088</th>\n",
       "      <td>5</td>\n",
       "      <td>1.234890</td>\n",
       "      <td>Four Rooms</td>\n",
       "      <td>Tim Roth|Antonio Banderas|Jennifer Beals|Madon...</td>\n",
       "      <td>Allison Anders|Alexandre Rockwell|Robert Rodri...</td>\n",
       "      <td>98</td>\n",
       "      <td>Comedy</td>\n",
       "      <td>Miramax Films|A Band Apart</td>\n",
       "      <td>1995-12-25</td>\n",
       "      <td>293</td>\n",
       "      <td>6.4</td>\n",
       "      <td>5.723867e+06</td>\n",
       "      <td>6.153158e+06</td>\n",
       "    </tr>\n",
       "    <tr>\n",
       "      <th>1329</th>\n",
       "      <td>11</td>\n",
       "      <td>12.037933</td>\n",
       "      <td>Star Wars</td>\n",
       "      <td>Mark Hamill|Harrison Ford|Carrie Fisher|Peter ...</td>\n",
       "      <td>George Lucas</td>\n",
       "      <td>121</td>\n",
       "      <td>Adventure|Action|Science Fiction</td>\n",
       "      <td>Lucasfilm|Twentieth Century Fox Film Corporation</td>\n",
       "      <td>1977-03-20</td>\n",
       "      <td>4428</td>\n",
       "      <td>7.9</td>\n",
       "      <td>3.957559e+07</td>\n",
       "      <td>2.789712e+09</td>\n",
       "    </tr>\n",
       "    <tr>\n",
       "      <th>4955</th>\n",
       "      <td>12</td>\n",
       "      <td>3.440519</td>\n",
       "      <td>Finding Nemo</td>\n",
       "      <td>Albert Brooks|Ellen DeGeneres|Alexander Gould|...</td>\n",
       "      <td>Andrew Stanton|Lee Unkrich</td>\n",
       "      <td>100</td>\n",
       "      <td>Animation|Family</td>\n",
       "      <td>Walt Disney Pictures|Pixar Animation Studios|D...</td>\n",
       "      <td>2003-05-30</td>\n",
       "      <td>3692</td>\n",
       "      <td>7.4</td>\n",
       "      <td>1.114231e+08</td>\n",
       "      <td>1.024887e+09</td>\n",
       "    </tr>\n",
       "    <tr>\n",
       "      <th>4179</th>\n",
       "      <td>13</td>\n",
       "      <td>6.715966</td>\n",
       "      <td>Forrest Gump</td>\n",
       "      <td>Tom Hanks|Robin Wright|Gary Sinise|Mykelti Wil...</td>\n",
       "      <td>Robert Zemeckis</td>\n",
       "      <td>142</td>\n",
       "      <td>Comedy|Drama|Romance</td>\n",
       "      <td>Paramount Pictures</td>\n",
       "      <td>1994-07-06</td>\n",
       "      <td>4856</td>\n",
       "      <td>8.1</td>\n",
       "      <td>8.091114e+07</td>\n",
       "      <td>9.973333e+08</td>\n",
       "    </tr>\n",
       "    <tr>\n",
       "      <th>2411</th>\n",
       "      <td>14</td>\n",
       "      <td>3.555720</td>\n",
       "      <td>American Beauty</td>\n",
       "      <td>Kevin Spacey|Annette Bening|Thora Birch|Wes Be...</td>\n",
       "      <td>Sam Mendes</td>\n",
       "      <td>122</td>\n",
       "      <td>Drama</td>\n",
       "      <td>DreamWorks SKG|Jinks/Cohen Company</td>\n",
       "      <td>1999-09-15</td>\n",
       "      <td>1756</td>\n",
       "      <td>7.7</td>\n",
       "      <td>1.963579e+07</td>\n",
       "      <td>4.664111e+08</td>\n",
       "    </tr>\n",
       "  </tbody>\n",
       "</table>\n",
       "</div>"
      ],
      "text/plain": [
       "      id  popularity   original_title  \\\n",
       "8088   5    1.234890       Four Rooms   \n",
       "1329  11   12.037933        Star Wars   \n",
       "4955  12    3.440519     Finding Nemo   \n",
       "4179  13    6.715966     Forrest Gump   \n",
       "2411  14    3.555720  American Beauty   \n",
       "\n",
       "                                                   cast  \\\n",
       "8088  Tim Roth|Antonio Banderas|Jennifer Beals|Madon...   \n",
       "1329  Mark Hamill|Harrison Ford|Carrie Fisher|Peter ...   \n",
       "4955  Albert Brooks|Ellen DeGeneres|Alexander Gould|...   \n",
       "4179  Tom Hanks|Robin Wright|Gary Sinise|Mykelti Wil...   \n",
       "2411  Kevin Spacey|Annette Bening|Thora Birch|Wes Be...   \n",
       "\n",
       "                                               director  runtime  \\\n",
       "8088  Allison Anders|Alexandre Rockwell|Robert Rodri...       98   \n",
       "1329                                       George Lucas      121   \n",
       "4955                         Andrew Stanton|Lee Unkrich      100   \n",
       "4179                                    Robert Zemeckis      142   \n",
       "2411                                         Sam Mendes      122   \n",
       "\n",
       "                                genres  \\\n",
       "8088                            Comedy   \n",
       "1329  Adventure|Action|Science Fiction   \n",
       "4955                  Animation|Family   \n",
       "4179              Comedy|Drama|Romance   \n",
       "2411                             Drama   \n",
       "\n",
       "                                   production_companies release_date  \\\n",
       "8088                         Miramax Films|A Band Apart   1995-12-25   \n",
       "1329   Lucasfilm|Twentieth Century Fox Film Corporation   1977-03-20   \n",
       "4955  Walt Disney Pictures|Pixar Animation Studios|D...   2003-05-30   \n",
       "4179                                 Paramount Pictures   1994-07-06   \n",
       "2411                 DreamWorks SKG|Jinks/Cohen Company   1999-09-15   \n",
       "\n",
       "      vote_count  vote_average    budget_adj   revenue_adj  \n",
       "8088         293           6.4  5.723867e+06  6.153158e+06  \n",
       "1329        4428           7.9  3.957559e+07  2.789712e+09  \n",
       "4955        3692           7.4  1.114231e+08  1.024887e+09  \n",
       "4179        4856           8.1  8.091114e+07  9.973333e+08  \n",
       "2411        1756           7.7  1.963579e+07  4.664111e+08  "
      ]
     },
     "execution_count": 241,
     "metadata": {},
     "output_type": "execute_result"
    }
   ],
   "source": [
    "tmdb_df_cleaned.head()"
   ]
  },
  {
   "cell_type": "markdown",
   "metadata": {
    "collapsed": true
   },
   "source": [
    "#### Cleaning Tideness Issues:"
   ]
  },
  {
   "cell_type": "markdown",
   "metadata": {},
   "source": [
    "###### 6. Define"
   ]
  },
  {
   "cell_type": "markdown",
   "metadata": {},
   "source": [
    "Separating **release_date** into **release_day**, **release_month** and **release_year** (3 columns) and Dropping **release_date**."
   ]
  },
  {
   "cell_type": "markdown",
   "metadata": {},
   "source": [
    "###### Code"
   ]
  },
  {
   "cell_type": "code",
   "execution_count": 242,
   "metadata": {},
   "outputs": [],
   "source": [
    "# extract year, month and day to new columns\n",
    "tmdb_df_cleaned['release_day'] = tmdb_df_cleaned['release_date'].dt.day\n",
    "tmdb_df_cleaned['release_month'] = tmdb_df_cleaned['release_date'].dt.month\n",
    "tmdb_df_cleaned['release_year'] = tmdb_df_cleaned['release_date'].dt.year\n",
    "\n",
    "# Finally drop timestamp column\n",
    "tmdb_df_cleaned = tmdb_df_cleaned.drop('release_date', axis=1)"
   ]
  },
  {
   "cell_type": "markdown",
   "metadata": {},
   "source": [
    "###### Test"
   ]
  },
  {
   "cell_type": "code",
   "execution_count": 243,
   "metadata": {},
   "outputs": [
    {
     "data": {
      "text/html": [
       "<div>\n",
       "<style scoped>\n",
       "    .dataframe tbody tr th:only-of-type {\n",
       "        vertical-align: middle;\n",
       "    }\n",
       "\n",
       "    .dataframe tbody tr th {\n",
       "        vertical-align: top;\n",
       "    }\n",
       "\n",
       "    .dataframe thead th {\n",
       "        text-align: right;\n",
       "    }\n",
       "</style>\n",
       "<table border=\"1\" class=\"dataframe\">\n",
       "  <thead>\n",
       "    <tr style=\"text-align: right;\">\n",
       "      <th></th>\n",
       "      <th>id</th>\n",
       "      <th>popularity</th>\n",
       "      <th>original_title</th>\n",
       "      <th>cast</th>\n",
       "      <th>director</th>\n",
       "      <th>runtime</th>\n",
       "      <th>genres</th>\n",
       "      <th>production_companies</th>\n",
       "      <th>vote_count</th>\n",
       "      <th>vote_average</th>\n",
       "      <th>budget_adj</th>\n",
       "      <th>revenue_adj</th>\n",
       "      <th>release_day</th>\n",
       "      <th>release_month</th>\n",
       "      <th>release_year</th>\n",
       "    </tr>\n",
       "  </thead>\n",
       "  <tbody>\n",
       "    <tr>\n",
       "      <th>8088</th>\n",
       "      <td>5</td>\n",
       "      <td>1.234890</td>\n",
       "      <td>Four Rooms</td>\n",
       "      <td>Tim Roth|Antonio Banderas|Jennifer Beals|Madon...</td>\n",
       "      <td>Allison Anders|Alexandre Rockwell|Robert Rodri...</td>\n",
       "      <td>98</td>\n",
       "      <td>Comedy</td>\n",
       "      <td>Miramax Films|A Band Apart</td>\n",
       "      <td>293</td>\n",
       "      <td>6.4</td>\n",
       "      <td>5.723867e+06</td>\n",
       "      <td>6.153158e+06</td>\n",
       "      <td>25</td>\n",
       "      <td>12</td>\n",
       "      <td>1995</td>\n",
       "    </tr>\n",
       "    <tr>\n",
       "      <th>1329</th>\n",
       "      <td>11</td>\n",
       "      <td>12.037933</td>\n",
       "      <td>Star Wars</td>\n",
       "      <td>Mark Hamill|Harrison Ford|Carrie Fisher|Peter ...</td>\n",
       "      <td>George Lucas</td>\n",
       "      <td>121</td>\n",
       "      <td>Adventure|Action|Science Fiction</td>\n",
       "      <td>Lucasfilm|Twentieth Century Fox Film Corporation</td>\n",
       "      <td>4428</td>\n",
       "      <td>7.9</td>\n",
       "      <td>3.957559e+07</td>\n",
       "      <td>2.789712e+09</td>\n",
       "      <td>20</td>\n",
       "      <td>3</td>\n",
       "      <td>1977</td>\n",
       "    </tr>\n",
       "    <tr>\n",
       "      <th>4955</th>\n",
       "      <td>12</td>\n",
       "      <td>3.440519</td>\n",
       "      <td>Finding Nemo</td>\n",
       "      <td>Albert Brooks|Ellen DeGeneres|Alexander Gould|...</td>\n",
       "      <td>Andrew Stanton|Lee Unkrich</td>\n",
       "      <td>100</td>\n",
       "      <td>Animation|Family</td>\n",
       "      <td>Walt Disney Pictures|Pixar Animation Studios|D...</td>\n",
       "      <td>3692</td>\n",
       "      <td>7.4</td>\n",
       "      <td>1.114231e+08</td>\n",
       "      <td>1.024887e+09</td>\n",
       "      <td>30</td>\n",
       "      <td>5</td>\n",
       "      <td>2003</td>\n",
       "    </tr>\n",
       "    <tr>\n",
       "      <th>4179</th>\n",
       "      <td>13</td>\n",
       "      <td>6.715966</td>\n",
       "      <td>Forrest Gump</td>\n",
       "      <td>Tom Hanks|Robin Wright|Gary Sinise|Mykelti Wil...</td>\n",
       "      <td>Robert Zemeckis</td>\n",
       "      <td>142</td>\n",
       "      <td>Comedy|Drama|Romance</td>\n",
       "      <td>Paramount Pictures</td>\n",
       "      <td>4856</td>\n",
       "      <td>8.1</td>\n",
       "      <td>8.091114e+07</td>\n",
       "      <td>9.973333e+08</td>\n",
       "      <td>6</td>\n",
       "      <td>7</td>\n",
       "      <td>1994</td>\n",
       "    </tr>\n",
       "    <tr>\n",
       "      <th>2411</th>\n",
       "      <td>14</td>\n",
       "      <td>3.555720</td>\n",
       "      <td>American Beauty</td>\n",
       "      <td>Kevin Spacey|Annette Bening|Thora Birch|Wes Be...</td>\n",
       "      <td>Sam Mendes</td>\n",
       "      <td>122</td>\n",
       "      <td>Drama</td>\n",
       "      <td>DreamWorks SKG|Jinks/Cohen Company</td>\n",
       "      <td>1756</td>\n",
       "      <td>7.7</td>\n",
       "      <td>1.963579e+07</td>\n",
       "      <td>4.664111e+08</td>\n",
       "      <td>15</td>\n",
       "      <td>9</td>\n",
       "      <td>1999</td>\n",
       "    </tr>\n",
       "    <tr>\n",
       "      <th>...</th>\n",
       "      <td>...</td>\n",
       "      <td>...</td>\n",
       "      <td>...</td>\n",
       "      <td>...</td>\n",
       "      <td>...</td>\n",
       "      <td>...</td>\n",
       "      <td>...</td>\n",
       "      <td>...</td>\n",
       "      <td>...</td>\n",
       "      <td>...</td>\n",
       "      <td>...</td>\n",
       "      <td>...</td>\n",
       "      <td>...</td>\n",
       "      <td>...</td>\n",
       "      <td>...</td>\n",
       "    </tr>\n",
       "    <tr>\n",
       "      <th>311</th>\n",
       "      <td>360387</td>\n",
       "      <td>0.393566</td>\n",
       "      <td>Blunt Force Trauma</td>\n",
       "      <td>Mickey Rourke|Freida Pinto|Ryan Kwanten|Maruia...</td>\n",
       "      <td>Ken Sanzel</td>\n",
       "      <td>92</td>\n",
       "      <td>Adventure|Action</td>\n",
       "      <td>ETA films</td>\n",
       "      <td>23</td>\n",
       "      <td>4.4</td>\n",
       "      <td>9.199996e+05</td>\n",
       "      <td>NaN</td>\n",
       "      <td>5</td>\n",
       "      <td>10</td>\n",
       "      <td>2015</td>\n",
       "    </tr>\n",
       "    <tr>\n",
       "      <th>330</th>\n",
       "      <td>362105</td>\n",
       "      <td>0.366030</td>\n",
       "      <td>R.L. Stine's Monsterville: The Cabinet of Souls</td>\n",
       "      <td>Dove Cameron|Katherine McNamara|Ryan McCartan|...</td>\n",
       "      <td>Peter DeLuise</td>\n",
       "      <td>85</td>\n",
       "      <td>Comedy|Horror</td>\n",
       "      <td>EveryWhere Studios</td>\n",
       "      <td>22</td>\n",
       "      <td>7.2</td>\n",
       "      <td>4.047998e+06</td>\n",
       "      <td>NaN</td>\n",
       "      <td>29</td>\n",
       "      <td>9</td>\n",
       "      <td>2015</td>\n",
       "    </tr>\n",
       "    <tr>\n",
       "      <th>515</th>\n",
       "      <td>395560</td>\n",
       "      <td>0.142759</td>\n",
       "      <td>Capsule</td>\n",
       "      <td>Edmund Kingsley|David Wayman|Nigel Barber|Lisa...</td>\n",
       "      <td>Andrew Martin</td>\n",
       "      <td>91</td>\n",
       "      <td>Drama|History|Thriller|Science Fiction</td>\n",
       "      <td>Ecaveo Capital Partners|Hermes Space Industries</td>\n",
       "      <td>11</td>\n",
       "      <td>5.3</td>\n",
       "      <td>1.195999e+06</td>\n",
       "      <td>NaN</td>\n",
       "      <td>23</td>\n",
       "      <td>12</td>\n",
       "      <td>2015</td>\n",
       "    </tr>\n",
       "    <tr>\n",
       "      <th>3826</th>\n",
       "      <td>414419</td>\n",
       "      <td>0.146477</td>\n",
       "      <td>Kill Bill: The Whole Bloody Affair</td>\n",
       "      <td>Uma Thurman|Lucy Liu|Vivica A. Fox|Daryl Hanna...</td>\n",
       "      <td>Quentin Tarantino</td>\n",
       "      <td>247</td>\n",
       "      <td>Crime|Action</td>\n",
       "      <td>Miramax Films|A Band Apart|Super Cool ManChu</td>\n",
       "      <td>28</td>\n",
       "      <td>8.1</td>\n",
       "      <td>2.908194e+07</td>\n",
       "      <td>NaN</td>\n",
       "      <td>28</td>\n",
       "      <td>3</td>\n",
       "      <td>2011</td>\n",
       "    </tr>\n",
       "    <tr>\n",
       "      <th>3460</th>\n",
       "      <td>417859</td>\n",
       "      <td>1.071695</td>\n",
       "      <td>Puss in Boots</td>\n",
       "      <td>Antonio Banderas|Salma Hayek|Zach Galifianakis...</td>\n",
       "      <td>Chris Miller</td>\n",
       "      <td>90</td>\n",
       "      <td>Action|Adventure|Animation|Family|Fantasy</td>\n",
       "      <td>DreamWorks</td>\n",
       "      <td>48</td>\n",
       "      <td>6.9</td>\n",
       "      <td>1.260217e+08</td>\n",
       "      <td>5.380038e+08</td>\n",
       "      <td>28</td>\n",
       "      <td>10</td>\n",
       "      <td>2011</td>\n",
       "    </tr>\n",
       "  </tbody>\n",
       "</table>\n",
       "<p>5020 rows × 15 columns</p>\n",
       "</div>"
      ],
      "text/plain": [
       "          id  popularity                                   original_title  \\\n",
       "8088       5    1.234890                                       Four Rooms   \n",
       "1329      11   12.037933                                        Star Wars   \n",
       "4955      12    3.440519                                     Finding Nemo   \n",
       "4179      13    6.715966                                     Forrest Gump   \n",
       "2411      14    3.555720                                  American Beauty   \n",
       "...      ...         ...                                              ...   \n",
       "311   360387    0.393566                               Blunt Force Trauma   \n",
       "330   362105    0.366030  R.L. Stine's Monsterville: The Cabinet of Souls   \n",
       "515   395560    0.142759                                          Capsule   \n",
       "3826  414419    0.146477               Kill Bill: The Whole Bloody Affair   \n",
       "3460  417859    1.071695                                    Puss in Boots   \n",
       "\n",
       "                                                   cast  \\\n",
       "8088  Tim Roth|Antonio Banderas|Jennifer Beals|Madon...   \n",
       "1329  Mark Hamill|Harrison Ford|Carrie Fisher|Peter ...   \n",
       "4955  Albert Brooks|Ellen DeGeneres|Alexander Gould|...   \n",
       "4179  Tom Hanks|Robin Wright|Gary Sinise|Mykelti Wil...   \n",
       "2411  Kevin Spacey|Annette Bening|Thora Birch|Wes Be...   \n",
       "...                                                 ...   \n",
       "311   Mickey Rourke|Freida Pinto|Ryan Kwanten|Maruia...   \n",
       "330   Dove Cameron|Katherine McNamara|Ryan McCartan|...   \n",
       "515   Edmund Kingsley|David Wayman|Nigel Barber|Lisa...   \n",
       "3826  Uma Thurman|Lucy Liu|Vivica A. Fox|Daryl Hanna...   \n",
       "3460  Antonio Banderas|Salma Hayek|Zach Galifianakis...   \n",
       "\n",
       "                                               director  runtime  \\\n",
       "8088  Allison Anders|Alexandre Rockwell|Robert Rodri...       98   \n",
       "1329                                       George Lucas      121   \n",
       "4955                         Andrew Stanton|Lee Unkrich      100   \n",
       "4179                                    Robert Zemeckis      142   \n",
       "2411                                         Sam Mendes      122   \n",
       "...                                                 ...      ...   \n",
       "311                                          Ken Sanzel       92   \n",
       "330                                       Peter DeLuise       85   \n",
       "515                                       Andrew Martin       91   \n",
       "3826                                  Quentin Tarantino      247   \n",
       "3460                                       Chris Miller       90   \n",
       "\n",
       "                                         genres  \\\n",
       "8088                                     Comedy   \n",
       "1329           Adventure|Action|Science Fiction   \n",
       "4955                           Animation|Family   \n",
       "4179                       Comedy|Drama|Romance   \n",
       "2411                                      Drama   \n",
       "...                                         ...   \n",
       "311                            Adventure|Action   \n",
       "330                               Comedy|Horror   \n",
       "515      Drama|History|Thriller|Science Fiction   \n",
       "3826                               Crime|Action   \n",
       "3460  Action|Adventure|Animation|Family|Fantasy   \n",
       "\n",
       "                                   production_companies  vote_count  \\\n",
       "8088                         Miramax Films|A Band Apart         293   \n",
       "1329   Lucasfilm|Twentieth Century Fox Film Corporation        4428   \n",
       "4955  Walt Disney Pictures|Pixar Animation Studios|D...        3692   \n",
       "4179                                 Paramount Pictures        4856   \n",
       "2411                 DreamWorks SKG|Jinks/Cohen Company        1756   \n",
       "...                                                 ...         ...   \n",
       "311                                           ETA films          23   \n",
       "330                                  EveryWhere Studios          22   \n",
       "515     Ecaveo Capital Partners|Hermes Space Industries          11   \n",
       "3826       Miramax Films|A Band Apart|Super Cool ManChu          28   \n",
       "3460                                         DreamWorks          48   \n",
       "\n",
       "      vote_average    budget_adj   revenue_adj  release_day  release_month  \\\n",
       "8088           6.4  5.723867e+06  6.153158e+06           25             12   \n",
       "1329           7.9  3.957559e+07  2.789712e+09           20              3   \n",
       "4955           7.4  1.114231e+08  1.024887e+09           30              5   \n",
       "4179           8.1  8.091114e+07  9.973333e+08            6              7   \n",
       "2411           7.7  1.963579e+07  4.664111e+08           15              9   \n",
       "...            ...           ...           ...          ...            ...   \n",
       "311            4.4  9.199996e+05           NaN            5             10   \n",
       "330            7.2  4.047998e+06           NaN           29              9   \n",
       "515            5.3  1.195999e+06           NaN           23             12   \n",
       "3826           8.1  2.908194e+07           NaN           28              3   \n",
       "3460           6.9  1.260217e+08  5.380038e+08           28             10   \n",
       "\n",
       "      release_year  \n",
       "8088          1995  \n",
       "1329          1977  \n",
       "4955          2003  \n",
       "4179          1994  \n",
       "2411          1999  \n",
       "...            ...  \n",
       "311           2015  \n",
       "330           2015  \n",
       "515           2015  \n",
       "3826          2011  \n",
       "3460          2011  \n",
       "\n",
       "[5020 rows x 15 columns]"
      ]
     },
     "execution_count": 243,
     "metadata": {},
     "output_type": "execute_result"
    }
   ],
   "source": [
    "tmdb_df_cleaned"
   ]
  },
  {
   "cell_type": "markdown",
   "metadata": {},
   "source": [
    "### Data Storing"
   ]
  },
  {
   "cell_type": "code",
   "execution_count": 244,
   "metadata": {},
   "outputs": [],
   "source": [
    "#Store the clean DataFrame in a CSV file\n",
    "tmdb_df_cleaned.to_csv('tmdb-movies-cleaned.csv', \n",
    "                 index=False, encoding = 'utf-8')"
   ]
  },
  {
   "cell_type": "markdown",
   "metadata": {},
   "source": [
    "## Exploratory Data Analysis"
   ]
  },
  {
   "cell_type": "markdown",
   "metadata": {},
   "source": [
    "### Research Question 1 (Important Insights for Movie Production)"
   ]
  },
  {
   "cell_type": "markdown",
   "metadata": {},
   "source": [
    "In this insight an important questions related to those who interested in producing movies like:\n",
    "- Which genre has the highest release of movies?\n",
    "- Who are the directors contributing to high revenue movies?"
   ]
  },
  {
   "cell_type": "markdown",
   "metadata": {},
   "source": [
    "#### Which genre has the highest release of movies?"
   ]
  },
  {
   "cell_type": "code",
   "execution_count": 245,
   "metadata": {},
   "outputs": [],
   "source": [
    "# Function definition of splitting the strings in genres.\n",
    "def split_strings(x):\n",
    "    #concatenate all the rows of the genrs.\n",
    "    df_plt = tmdb_df_cleaned[x].str.cat(sep = '|')\n",
    "    split_strings = pd.Series(df_plt.split('|'))\n",
    "    return split_strings"
   ]
  },
  {
   "cell_type": "code",
   "execution_count": 246,
   "metadata": {},
   "outputs": [
    {
     "data": {
      "text/plain": [
       "Drama              2257\n",
       "Comedy             1692\n",
       "Thriller           1604\n",
       "Action             1388\n",
       "Adventure           892\n",
       "Romance             843\n",
       "Crime               811\n",
       "Horror              738\n",
       "Science Fiction     687\n",
       "Family              507\n",
       "Fantasy             496\n",
       "Mystery             436\n",
       "Animation           255\n",
       "History             178\n",
       "Music               160\n",
       "War                 153\n",
       "Western              74\n",
       "Documentary          43\n",
       "Foreign              27\n",
       "TV Movie              9\n",
       "dtype: int64"
      ]
     },
     "execution_count": 246,
     "metadata": {},
     "output_type": "execute_result"
    }
   ],
   "source": [
    "#counts each of the genre\n",
    "genres_vcount = split_strings('genres').value_counts(ascending=False)\n",
    "genres_vcount"
   ]
  },
  {
   "cell_type": "code",
   "execution_count": 247,
   "metadata": {},
   "outputs": [
    {
     "data": {
      "text/plain": [
       "Text(0, 0.5, 'Genres')"
      ]
     },
     "execution_count": 247,
     "metadata": {},
     "output_type": "execute_result"
    },
    {
     "data": {
      "image/png": "[encoded data removed]",
      "text/plain": [
       "<Figure size 1080x576 with 1 Axes>"
      ]
     },
     "metadata": {
      "needs_background": "light"
     },
     "output_type": "display_data"
    }
   ],
   "source": [
    "#plot a 'bar' plot using plot function for 'genre vs number of movies'.\n",
    "fig = plt.figure(figsize=(15,8))\n",
    "genres_vcount.plot(kind= 'bar')\n",
    "#setup the title and the labels of the plot.\n",
    "plt.title('Genre With Highest Release',fontsize=15)\n",
    "plt.xlabel('Number Of Movies',fontsize=13)\n",
    "plt.ylabel('Genres',fontsize= 13)"
   ]
  },
  {
   "cell_type": "markdown",
   "metadata": {},
   "source": [
    "##### Findings"
   ]
  },
  {
   "cell_type": "markdown",
   "metadata": {},
   "source": [
    "- Drama is the highest released movies genre followed by Comedy, Thriller and Action as the top 4 geners."
   ]
  },
  {
   "cell_type": "markdown",
   "metadata": {},
   "source": [
    "#### Who are the directors contributing to high revenue movies?"
   ]
  },
  {
   "cell_type": "code",
   "execution_count": 256,
   "metadata": {},
   "outputs": [
    {
     "data": {
      "text/plain": [
       "Text(0.5, 1.0, 'Top 10 Highest Revenue Directors')"
      ]
     },
     "execution_count": 256,
     "metadata": {},
     "output_type": "execute_result"
    },
    {
     "data": {
      "image/png": "[encoded data removed]",
      "text/plain": [
       "<Figure size 1080x576 with 1 Axes>"
      ]
     },
     "metadata": {},
     "output_type": "display_data"
    }
   ],
   "source": [
    "# Directors of the Highest Movie Revenue\n",
    "dhmr_df = tmdb_df_cleaned.groupby('director').sum().sort_values(by = 'revenue_adj',ascending = False)['revenue_adj'][0:10]\n",
    "\n",
    "#plot a 'brah' plot using plot function.\n",
    "fig = plt.figure(figsize=(15,8))\n",
    "dhmr_df.plot(kind='barh')\n",
    "plt.style.use('seaborn-darkgrid')\n",
    "plt.xlabel('Highest Revenue Atchived')\n",
    "plt.ylabel('Director')\n",
    "plt.title('Top 10 Highest Revenue Directors')"
   ]
  },
  {
   "cell_type": "markdown",
   "metadata": {},
   "source": [
    "##### Findings"
   ]
  },
  {
   "cell_type": "markdown",
   "metadata": {},
   "source": [
    "- Top 10 Directors in Achieving Highest Revenue (Ascending):\n",
    "    - Steven Spielberg\n",
    "    - James Cameron\n",
    "    - Peter Jackson\n",
    "    - George Lucas\n",
    "    - Robert Zemeckis\n",
    "    - Michael Bay\n",
    "    - Chris Columbus\n",
    "    - Tim Burton\n",
    "    - David Yates\n",
    "    - Christopher Nolan\n",
    "    "
   ]
  },
  {
   "cell_type": "markdown",
   "metadata": {},
   "source": [
    "### Research Question 2  (Important Insights for Movie Financing)"
   ]
  },
  {
   "cell_type": "markdown",
   "metadata": {},
   "source": [
    "In this insight an important questions related to those who interested in financing movies like:\n",
    "- What's the Changes in Budget & Revenue across Time?\n",
    "- What's the most profitable genre?\n"
   ]
  },
  {
   "cell_type": "markdown",
   "metadata": {},
   "source": [
    "#### What's the Changes in Budget & Revenue across Time?"
   ]
  },
  {
   "cell_type": "code",
   "execution_count": 249,
   "metadata": {},
   "outputs": [
    {
     "data": {
      "text/plain": [
       "Text(0.5, 1.0, 'Budget & Revenue over time')"
      ]
     },
     "execution_count": 249,
     "metadata": {},
     "output_type": "execute_result"
    },
    {
     "data": {
      "image/png": "[encoded data removed]",
      "text/plain": [
       "<Figure size 1080x576 with 1 Axes>"
      ]
     },
     "metadata": {},
     "output_type": "display_data"
    }
   ],
   "source": [
    "# Create copy of tmdb_df_cleaned to work off of using only my variables of interest\n",
    "time_df = tmdb_df_cleaned[['release_year', 'release_month', 'release_day', 'budget_adj', 'revenue_adj']].copy()\n",
    "\n",
    "# Set the index to be the timestamp so time is displayed properly in plots\n",
    "time_df.set_index(['release_year', 'release_month', 'release_day'], inplace=True)\n",
    "\n",
    "fig = plt.figure(figsize=(15,8))\n",
    "time_df['budget_adj'].plot(color = 'red', label='Budget')\n",
    "time_df['revenue_adj'].plot(color = 'blue', alpha=0.5, label='Revenue')\n",
    "plt.style.use('seaborn-darkgrid')\n",
    "plt.legend(loc='upper right')\n",
    "plt.xlabel('Release timestamp')\n",
    "plt.ylabel('Budget & Revenue')\n",
    "plt.title('Budget & Revenue over time')"
   ]
  },
  {
   "cell_type": "markdown",
   "metadata": {},
   "source": [
    "##### Findings"
   ]
  },
  {
   "cell_type": "markdown",
   "metadata": {},
   "source": [
    "- Budget range kind of stable across time. However, Revenue changes from time to time."
   ]
  },
  {
   "cell_type": "markdown",
   "metadata": {},
   "source": [
    "#### What's the most profitable genre?"
   ]
  },
  {
   "cell_type": "code",
   "execution_count": 250,
   "metadata": {},
   "outputs": [
    {
     "name": "stdout",
     "output_type": "stream",
     "text": [
      "<class 'pandas.core.frame.DataFrame'>\n",
      "Int64Index: 3804 entries, 8088 to 3460\n",
      "Data columns (total 16 columns):\n",
      " #   Column                Non-Null Count  Dtype  \n",
      "---  ------                --------------  -----  \n",
      " 0   id                    3804 non-null   int64  \n",
      " 1   popularity            3804 non-null   float64\n",
      " 2   original_title        3804 non-null   object \n",
      " 3   cast                  3804 non-null   object \n",
      " 4   director              3804 non-null   object \n",
      " 5   runtime               3804 non-null   int64  \n",
      " 6   genres                3804 non-null   object \n",
      " 7   production_companies  3804 non-null   object \n",
      " 8   vote_count            3804 non-null   int64  \n",
      " 9   vote_average          3804 non-null   float64\n",
      " 10  budget_adj            3804 non-null   float64\n",
      " 11  revenue_adj           3804 non-null   float64\n",
      " 12  release_day           3804 non-null   int64  \n",
      " 13  release_month         3804 non-null   int64  \n",
      " 14  release_year          3804 non-null   int64  \n",
      " 15  profit                3804 non-null   float64\n",
      "dtypes: float64(5), int64(6), object(5)\n",
      "memory usage: 505.2+ KB\n"
     ]
    }
   ],
   "source": [
    "# Create new column for the profit to find out which movie is more successful. Make sure it is in integer datatype\n",
    "df_cleaned = tmdb_df_cleaned.copy()\n",
    "df_cleaned['profit'] = df_cleaned.apply(lambda x: x['revenue_adj'] - x['budget_adj'], axis=1)\n",
    "df_cleaned.dropna(subset = ['profit'], inplace = True)\n",
    "df_cleaned.info()"
   ]
  },
  {
   "cell_type": "code",
   "execution_count": 251,
   "metadata": {},
   "outputs": [
    {
     "name": "stdout",
     "output_type": "stream",
     "text": [
      "<class 'pandas.core.frame.DataFrame'>\n",
      "Int64Index: 3804 entries, 1329 to 2244\n",
      "Data columns (total 5 columns):\n",
      " #   Column  Non-Null Count  Dtype \n",
      "---  ------  --------------  ----- \n",
      " 0   0       3804 non-null   object\n",
      " 1   1       3168 non-null   object\n",
      " 2   2       2088 non-null   object\n",
      " 3   3       861 non-null    object\n",
      " 4   4       254 non-null    object\n",
      "dtypes: object(5)\n",
      "memory usage: 178.3+ KB\n"
     ]
    }
   ],
   "source": [
    "# Sort the data by profit and show the top 10 rows.\n",
    "df_sorted = df_cleaned.sort_values(['profit'], ascending = False)\n",
    "# Function definition of splitting the strings in genres.\n",
    "def separate(data):\n",
    "    return data.str[0:].str.split('|',expand = True)\n",
    "genres = separate(df_sorted['genres'])\n",
    "genres.info()"
   ]
  },
  {
   "cell_type": "code",
   "execution_count": 252,
   "metadata": {},
   "outputs": [
    {
     "data": {
      "text/plain": [
       "1329     Adventure\n",
       "1386        Action\n",
       "5231         Drama\n",
       "10594        Drama\n",
       "9806        Horror\n",
       "Name: genres, dtype: object"
      ]
     },
     "execution_count": 252,
     "metadata": {},
     "output_type": "execute_result"
    }
   ],
   "source": [
    "df_sorted['genres'] = genres[0]\n",
    "df_sorted['genres'].head()"
   ]
  },
  {
   "cell_type": "code",
   "execution_count": 253,
   "metadata": {},
   "outputs": [
    {
     "data": {
      "text/plain": [
       "Text(0, 0.5, 'Profit')"
      ]
     },
     "execution_count": 253,
     "metadata": {},
     "output_type": "execute_result"
    },
    {
     "data": {
      "image/png": "[encoded data removed]",
      "text/plain": [
       "<Figure size 1080x576 with 1 Axes>"
      ]
     },
     "metadata": {},
     "output_type": "display_data"
    }
   ],
   "source": [
    "#plot a 'scatter' plot using plot function for 'genre vs profit'.\n",
    "plt.figure(figsize=(15,8))\n",
    "plt.scatter(x=df_sorted['genres'], y=df_sorted['profit'], color='c')\n",
    "\n",
    "#setup the title and the labels of the scatter plot.\n",
    "plt.style.use('seaborn-darkgrid')\n",
    "plt.title('Genre Vs Profit', fontsize=13)\n",
    "plt.xlabel('Genres', fontsize=12)\n",
    "plt.ylabel('Profit', fontsize=12)"
   ]
  },
  {
   "cell_type": "markdown",
   "metadata": {},
   "source": [
    "##### Findings"
   ]
  },
  {
   "cell_type": "markdown",
   "metadata": {},
   "source": [
    "- Adventure Mmovies are the highest profitable movies genre followed by Action, Horror and Science Fiction as the top 4 most profitable geners."
   ]
  },
  {
   "cell_type": "markdown",
   "metadata": {},
   "source": [
    "### Research Question 3 (Important Insights for Movies Watching)"
   ]
  },
  {
   "cell_type": "markdown",
   "metadata": {},
   "source": [
    "In this insight an important questions related to those who interested in watchingg movies like:\n",
    "- Does movies ppopularity affected through the years?"
   ]
  },
  {
   "cell_type": "markdown",
   "metadata": {},
   "source": [
    "#### Does movies ppopularity affected through the years?"
   ]
  },
  {
   "cell_type": "code",
   "execution_count": 254,
   "metadata": {},
   "outputs": [],
   "source": [
    "# group data by release year take the median of all the numeric columns\n",
    "groupby_year = tmdb_df_cleaned.groupby('release_year').median()\n",
    "\n",
    "# get release year column back into dataframe for visualization\n",
    "groupby_year['release_year'] = groupby_year.index.get_level_values(0)"
   ]
  },
  {
   "cell_type": "code",
   "execution_count": 255,
   "metadata": {},
   "outputs": [
    {
     "data": {
      "text/plain": [
       "Text(0, 0.5, 'Popularity')"
      ]
     },
     "execution_count": 255,
     "metadata": {},
     "output_type": "execute_result"
    },
    {
     "data": {
      "image/png": "[encoded data removed]",
      "text/plain": [
       "<Figure size 1080x576 with 1 Axes>"
      ]
     },
     "metadata": {},
     "output_type": "display_data"
    }
   ],
   "source": [
    "#plot a 'linear regression model' plot using plot function.\n",
    "fig = plt.figure(figsize=(15,8))\n",
    "sns.regplot(x = 'release_year', y = 'popularity', data = groupby_year)\n",
    "\n",
    "#setup the title and the labels of the plot.\n",
    "plt.title('Release Year Vs Popularity',fontsize=15)\n",
    "plt.xlabel('Release Year',fontsize=13)\n",
    "plt.ylabel('Popularity',fontsize= 13)"
   ]
  },
  {
   "cell_type": "markdown",
   "metadata": {},
   "source": [
    "##### Findings"
   ]
  },
  {
   "cell_type": "markdown",
   "metadata": {},
   "source": [
    "- It seems that popularity doesn't affected by the year"
   ]
  },
  {
   "cell_type": "markdown",
   "metadata": {},
   "source": [
    "## Conclusions\n",
    "\n",
    "- Data wrangling is a mandatory skill for who is working on data analysis.\n",
    "- Data clean up implementation is not the hard thing but assessment the core of data analysis.\n",
    "- Data should carefully be checked to be able to priortize what should be kept and what should be ignored.\n",
    "- Data Gathering is valuable to know how to represent the data in useful form for the business sides.\n",
    "- Data Cleaning is a very straight forward if assesment done properly.\n",
    "- Data Storing is important for further analysis.\n",
    "- Data analysis and visualization using packages is a good way of showing the result for businesses."
   ]
  },
  {
   "cell_type": "markdown",
   "metadata": {},
   "source": [
    "### Findings\n",
    "\n",
    "- Important Insights for Movie Production\n",
    "    - Drama is the highest released movies genre followed by Comedy, Thriller and Action as the top 4 geners.\n",
    "    - Top 10 Directors in Achieving Highest Revenue (Ascending):\n",
    "            - Steven Spielberg\n",
    "            - James Cameron\n",
    "            - Peter Jackson\n",
    "            - George Lucas\n",
    "            - Robert Zemeckis\n",
    "            - Michael Bay\n",
    "            - Chris Columbus\n",
    "            - Tim Burton\n",
    "            - David Yates\n",
    "            - Christopher Nolan\n",
    "- Important Insights for Movie Financing\n",
    "    - Budget range kind of stable across time. However, Revenue changes from time to time.\n",
    "    - Adventure Mmovies are the highest profitable movies genre followed by Action, Horror and Science Fiction as the top 4 most profitable geners.\n",
    "- Important Insights for Movies Watching\n",
    "    - It seems that popularity doesn't affected by the year"
   ]
  },
  {
   "cell_type": "code",
   "execution_count": null,
   "metadata": {},
   "outputs": [],
   "source": []
  }
 ],
 "metadata": {
  "kernelspec": {
   "display_name": "Python 3",
   "language": "python",
   "name": "python3"
  },
  "language_info": {
   "codemirror_mode": {
    "name": "ipython",
    "version": 3
   },
   "file_extension": ".py",
   "mimetype": "text/x-python",
   "name": "python",
   "nbconvert_exporter": "python",
   "pygments_lexer": "ipython3",
   "version": "3.8.5"
  },
  "toc": {
   "base_numbering": "1",
   "nav_menu": {},
   "number_sections": true,
   "sideBar": true,
   "skip_h1_title": true,
   "title_cell": "Table of Contents",
   "title_sidebar": "Contents",
   "toc_cell": true,
   "toc_position": {
    "height": "calc(100% - 180px)",
    "left": "10px",
    "top": "150px",
    "width": "231px"
   },
   "toc_section_display": true,
   "toc_window_display": true
  }
 },
 "nbformat": 4,
 "nbformat_minor": 2
}
